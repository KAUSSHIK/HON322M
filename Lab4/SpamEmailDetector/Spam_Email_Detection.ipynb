{
 "cells": [
  {
   "cell_type": "code",
   "execution_count": 3,
   "id": "362f8cea",
   "metadata": {},
   "outputs": [],
   "source": [
    "import os\n",
    "import pandas as pd\n",
    "import numpy as np\n",
    "from sklearn.model_selection import train_test_split\n",
    "from sklearn.naive_bayes import MultinomialNB\n",
    "from sklearn.feature_extraction.text import CountVectorizer\n",
    "from sklearn.metrics import confusion_matrix, classification_report\n",
    "import matplotlib.pyplot as plt\n",
    "import seaborn as sns\n",
    "%matplotlib inline\n",
    "\n"
   ]
  },
  {
   "cell_type": "code",
   "execution_count": 4,
   "id": "5ec3940d",
   "metadata": {},
   "outputs": [],
   "source": [
    "os.chdir(\"/Users/kausshik/HON322M/Lab4/SpamEmailDetector\")"
   ]
  },
  {
   "cell_type": "markdown",
   "id": "da1fe350",
   "metadata": {},
   "source": [
    "# Understand data "
   ]
  },
  {
   "cell_type": "code",
   "execution_count": 5,
   "id": "d8fd3054",
   "metadata": {},
   "outputs": [],
   "source": [
    "data = pd.read_csv('Email_data.csv')"
   ]
  },
  {
   "cell_type": "code",
   "execution_count": 6,
   "id": "96ca4ee6",
   "metadata": {},
   "outputs": [
    {
     "data": {
      "text/html": [
       "<div>\n",
       "<style scoped>\n",
       "    .dataframe tbody tr th:only-of-type {\n",
       "        vertical-align: middle;\n",
       "    }\n",
       "\n",
       "    .dataframe tbody tr th {\n",
       "        vertical-align: top;\n",
       "    }\n",
       "\n",
       "    .dataframe thead th {\n",
       "        text-align: right;\n",
       "    }\n",
       "</style>\n",
       "<table border=\"1\" class=\"dataframe\">\n",
       "  <thead>\n",
       "    <tr style=\"text-align: right;\">\n",
       "      <th></th>\n",
       "      <th>Unnamed: 0</th>\n",
       "      <th>message</th>\n",
       "      <th>label</th>\n",
       "    </tr>\n",
       "  </thead>\n",
       "  <tbody>\n",
       "    <tr>\n",
       "      <th>0</th>\n",
       "      <td>0</td>\n",
       "      <td>AccuWeather 7-Day Forecast for \\nBEVERLY HILLS...</td>\n",
       "      <td>0</td>\n",
       "    </tr>\n",
       "    <tr>\n",
       "      <th>1</th>\n",
       "      <td>1</td>\n",
       "      <td>Mark,\\n\\nYou're right.  Thank you.  Look, it w...</td>\n",
       "      <td>0</td>\n",
       "    </tr>\n",
       "    <tr>\n",
       "      <th>2</th>\n",
       "      <td>2</td>\n",
       "      <td>Thanks for this information, Bjorn.\\nThis same...</td>\n",
       "      <td>0</td>\n",
       "    </tr>\n",
       "    <tr>\n",
       "      <th>3</th>\n",
       "      <td>3</td>\n",
       "      <td>On Mon, Apr 23, 2007 at 05:33:51PM +0200, Alex...</td>\n",
       "      <td>0</td>\n",
       "    </tr>\n",
       "    <tr>\n",
       "      <th>4</th>\n",
       "      <td>4</td>\n",
       "      <td>Content-Type: text/plain;\\n\\tcharset=\"Windows-...</td>\n",
       "      <td>1</td>\n",
       "    </tr>\n",
       "    <tr>\n",
       "      <th>...</th>\n",
       "      <td>...</td>\n",
       "      <td>...</td>\n",
       "      <td>...</td>\n",
       "    </tr>\n",
       "    <tr>\n",
       "      <th>7995</th>\n",
       "      <td>7995</td>\n",
       "      <td>Content-Type: text/plain;\\n    charset=\"iso-88...</td>\n",
       "      <td>1</td>\n",
       "    </tr>\n",
       "    <tr>\n",
       "      <th>7996</th>\n",
       "      <td>7996</td>\n",
       "      <td>Content-Type: multipart/alternative;\\n\\tbounda...</td>\n",
       "      <td>1</td>\n",
       "    </tr>\n",
       "    <tr>\n",
       "      <th>7997</th>\n",
       "      <td>7997</td>\n",
       "      <td>On 4/10/07, John W. Krahn wrote:\\n&gt; Igor Sutto...</td>\n",
       "      <td>0</td>\n",
       "    </tr>\n",
       "    <tr>\n",
       "      <th>7998</th>\n",
       "      <td>7998</td>\n",
       "      <td>Content-Type: multipart/alternative;\\n\\tbounda...</td>\n",
       "      <td>1</td>\n",
       "    </tr>\n",
       "    <tr>\n",
       "      <th>7999</th>\n",
       "      <td>7999</td>\n",
       "      <td>Content-Type: text/plain;\\n\\tcharset=\"iso-8859...</td>\n",
       "      <td>1</td>\n",
       "    </tr>\n",
       "  </tbody>\n",
       "</table>\n",
       "<p>8000 rows × 3 columns</p>\n",
       "</div>"
      ],
      "text/plain": [
       "      Unnamed: 0                                            message  label\n",
       "0              0  AccuWeather 7-Day Forecast for \\nBEVERLY HILLS...      0\n",
       "1              1  Mark,\\n\\nYou're right.  Thank you.  Look, it w...      0\n",
       "2              2  Thanks for this information, Bjorn.\\nThis same...      0\n",
       "3              3  On Mon, Apr 23, 2007 at 05:33:51PM +0200, Alex...      0\n",
       "4              4  Content-Type: text/plain;\\n\\tcharset=\"Windows-...      1\n",
       "...          ...                                                ...    ...\n",
       "7995        7995  Content-Type: text/plain;\\n    charset=\"iso-88...      1\n",
       "7996        7996  Content-Type: multipart/alternative;\\n\\tbounda...      1\n",
       "7997        7997  On 4/10/07, John W. Krahn wrote:\\n> Igor Sutto...      0\n",
       "7998        7998  Content-Type: multipart/alternative;\\n\\tbounda...      1\n",
       "7999        7999  Content-Type: text/plain;\\n\\tcharset=\"iso-8859...      1\n",
       "\n",
       "[8000 rows x 3 columns]"
      ]
     },
     "execution_count": 6,
     "metadata": {},
     "output_type": "execute_result"
    }
   ],
   "source": [
    "data"
   ]
  },
  {
   "cell_type": "code",
   "execution_count": 7,
   "id": "079859f2",
   "metadata": {},
   "outputs": [
    {
     "name": "stdout",
     "output_type": "stream",
     "text": [
      "Spam email sample:\n",
      "We Present you a US Licensed Online Pharm4cy St0re. \n",
      "Huge Disc0unts for next five days!!! \n",
      "\n",
      "Phenterm1ne - as low as $6.30\n",
      "Cial1s S0ft Tabs - as low as $7.30 \n",
      "Amb1en - as low as $3.60 \n",
      "V1agra S0ft Tabs - as low as $4.10 \n",
      "Val1um - as low as $3.30 \n",
      "Cial1s - as low as $6.00 \n",
      "Xan4x - as low as $3.80 \n",
      "Merid1a - as low as $4.40 \n",
      "\n",
      "We have lightspeed delivery and respect your privacy! \n",
      "Check US He4lthc4re Inc. at: http://www.pollikees.com/\n",
      "====================================================================================================\n",
      "Non-spam email sample:\n",
      "--\n",
      "[ Picked text/plain from multipart/alternative ]\n",
      "Intellectual Property Management in Health and\n",
      "Agricultural Innovation: A Handbook of Best\n",
      "Practices has been released earlier last week at\n",
      "BIO in Boston. Prepared by and for policy-makers,\n",
      "leaders of public sector research establishments,\n",
      "technology transfer professionals, licensing\n",
      "executives, and scientists, the Handbook offers\n",
      "up-to-date information and strategies for\n",
      "utilizing the power of both intellectual property\n",
      "and the public domain. Eschewing ideological\n",
      "debates and general proclamations, the authors\n",
      "always keep their eye on the practical side of IP\n",
      "management. The Handbook provides substantive\n",
      "discussions and analyses of the opportunities\n",
      "awaiting anyone in the field who wants to put intellectual property to work.\n",
      "\n",
      "The Handbook is a suite of 157 chapters and\n",
      "prefatory comments, composed by nearly 200\n",
      "authors from East, West, North and South. The\n",
      "companion Executive Guide distills the key points\n",
      "of each chapter into simple language and places\n",
      "them in the context of evolving best practices.\n",
      "The books will be distributed for free to low-\n",
      "and middle-income countries (subject to\n",
      "availability of funding and support for distribution).\n",
      "\n",
      "Please visit www.ipHandbook.org to order online,\n",
      "or use the order form below.  Distributed for\n",
      "free to developing countries (subject to\n",
      "availability of distribution support and funding).\n",
      "\n",
      "----------\n",
      "This Handbook... is a valuable guide in helping\n",
      "to navigate the complex­ but rewarding­world of\n",
      "an increasingly global innovation system.\n",
      "­ Norman Borlaug, Nobel Peace Prize Laureate\n",
      "\n",
      "At the dawn of the 21st century the world\n",
      "created an unprecedented wave of publicprivate\n",
      "partnerships. For such investments to bear fruit\n",
      "as public goods it is paramount to manage\n",
      "intellectual property with the public interest in\n",
      "mind. This Handbook provides expert guidance to\n",
      "do just that and will assist in developing new\n",
      "capabilities in low- and middle-income countries.\n",
      "­ Ariel Pablos-Méndez, Managing Director, Rockefeller Foundation\n",
      "\n",
      "For all who believe, as I believe, that\n",
      "developing countries can­and should­participate\n",
      "in and benefit from an interconnected world of\n",
      "innovation, this book is an indispensable guide.\n",
      "­ Mahmoud F. Fathalla, Professor and former Dean,\n",
      "Medical School at Assiut University, Egypt, and\n",
      "Chairperson of the WHO Advisory Committee on Health Research\n",
      "\n",
      "Intellectual property (IP) has become a much\n",
      "richer field of endeavor as it has moved from\n",
      "isolationism in the world of policy to a position\n",
      "of engagement. [This Handbook] will serve as an\n",
      "invaluable resource in this challenging new environment.\n",
      " From the Foreword of Francis Gurry, Deputy Director General, WIPO\n",
      "\n",
      "This Handbook­which really transcends the\n",
      "category of handbooks altogether­ is a must read\n",
      "for anyone who deals with intellectual property.\n",
      "­ Pramilla Senanayake, FRCOG, Chair, Global Forum\n",
      "for Health Research, MIHR, and the Concept Foundation\n",
      "\n",
      "--\n",
      "\n",
      "_______________________________________________\n",
      "Ip-health mailing list\n",
      "Ip-health@lists.essential.org\n",
      "http://lists.essential.org/mailman/listinfo/ip-health\n"
     ]
    }
   ],
   "source": [
    "# Randomly select one spam email\n",
    "spam_email_sample = data[data['label'] == 1].sample(n=1)\n",
    "\n",
    "# Randomly select one not spam email\n",
    "non_spam_email_sample = data[data['label'] == 0].sample(n=1)\n",
    "\n",
    "# Print the samples\n",
    "print(\"Spam email sample:\")\n",
    "print(spam_email_sample['message'].values[0])\n",
    "print(\"=\" * 100)\n",
    "print(\"Non-spam email sample:\")\n",
    "print(non_spam_email_sample['message'].values[0])\n"
   ]
  },
  {
   "cell_type": "code",
   "execution_count": 8,
   "id": "41439b76",
   "metadata": {},
   "outputs": [
    {
     "data": {
      "text/plain": [
       "label\n",
       "0    4000\n",
       "1    4000\n",
       "Name: count, dtype: int64"
      ]
     },
     "execution_count": 8,
     "metadata": {},
     "output_type": "execute_result"
    }
   ],
   "source": [
    "data['label'].value_counts()"
   ]
  },
  {
   "cell_type": "markdown",
   "id": "b6947811",
   "metadata": {},
   "source": [
    "# Data pre-processing"
   ]
  },
  {
   "cell_type": "markdown",
   "id": "234e8cb8",
   "metadata": {},
   "source": [
    "## Split data"
   ]
  },
  {
   "cell_type": "code",
   "execution_count": 9,
   "id": "e8a1610c",
   "metadata": {},
   "outputs": [],
   "source": [
    "X = list(data['message'])"
   ]
  },
  {
   "cell_type": "code",
   "execution_count": 10,
   "id": "4bb44eb9",
   "metadata": {},
   "outputs": [],
   "source": [
    "y = list(data['label'])"
   ]
  },
  {
   "cell_type": "code",
   "execution_count": 11,
   "id": "3ed6d705",
   "metadata": {},
   "outputs": [],
   "source": [
    "X_train, X_test, y_train, y_test = train_test_split(X, y, \n",
    "                                                    test_size = 0.30, \n",
    "                                                    random_state = 369,    # produce the same split when run the code multiple times\n",
    "                                                    stratify = y)    # have same percentage of samples of each target class; e.g., 28% for test for each class"
   ]
  },
  {
   "cell_type": "code",
   "execution_count": 12,
   "id": "b2974248",
   "metadata": {},
   "outputs": [
    {
     "data": {
      "text/plain": [
       "0    2800\n",
       "1    2800\n",
       "Name: count, dtype: int64"
      ]
     },
     "execution_count": 12,
     "metadata": {},
     "output_type": "execute_result"
    }
   ],
   "source": [
    "pd.Series(y_train).value_counts()"
   ]
  },
  {
   "cell_type": "code",
   "execution_count": 13,
   "id": "b9b353c6",
   "metadata": {
    "scrolled": true
   },
   "outputs": [
    {
     "data": {
      "text/plain": [
       "0    1200\n",
       "1    1200\n",
       "Name: count, dtype: int64"
      ]
     },
     "execution_count": 13,
     "metadata": {},
     "output_type": "execute_result"
    }
   ],
   "source": [
    "pd.Series(y_test).value_counts()"
   ]
  },
  {
   "cell_type": "code",
   "execution_count": 14,
   "id": "abf6f228",
   "metadata": {},
   "outputs": [],
   "source": [
    "# Add Lemmatization by extending CountVectorizer\n",
    "from nltk.stem import WordNetLemmatizer\n",
    "\n",
    "lemm = WordNetLemmatizer()\n",
    "class LemmaCountVectorizer(CountVectorizer):\n",
    "    def build_analyzer(self):\n",
    "        analyzer = super(LemmaCountVectorizer, self).build_analyzer()\n",
    "        return lambda doc: (lemm.lemmatize(w) for w in analyzer(doc))"
   ]
  },
  {
   "cell_type": "code",
   "execution_count": 15,
   "id": "5600201c",
   "metadata": {},
   "outputs": [],
   "source": [
    "# use LemmaCountVectorizer to perform tokenization, lowercasing, stopwords removing, and lemmatization\n",
    "Lema_cv = LemmaCountVectorizer(stop_words = 'english')      \n",
    "Lema_cv_feature_word_train = Lema_cv.fit_transform(X_train).toarray()\n",
    "Lema_cv_feature_word_test = Lema_cv.transform(X_test).toarray()"
   ]
  },
  {
   "cell_type": "code",
   "execution_count": 16,
   "id": "91153f57",
   "metadata": {},
   "outputs": [
    {
     "data": {
      "text/plain": [
       "(5600, 316067)"
      ]
     },
     "execution_count": 16,
     "metadata": {},
     "output_type": "execute_result"
    }
   ],
   "source": [
    "Lema_cv_feature_word_train.shape"
   ]
  },
  {
   "cell_type": "markdown",
   "id": "0645693e",
   "metadata": {},
   "source": [
    "## Model Training - Naive Bayes"
   ]
  },
  {
   "cell_type": "code",
   "execution_count": 19,
   "id": "6312ca61",
   "metadata": {},
   "outputs": [
    {
     "ename": "",
     "evalue": "",
     "output_type": "error",
     "traceback": [
      "\u001b[1;31mThe Kernel crashed while executing code in the current cell or a previous cell. \n",
      "\u001b[1;31mPlease review the code in the cell(s) to identify a possible cause of the failure. \n",
      "\u001b[1;31mClick <a href='https://aka.ms/vscodeJupyterKernelCrash'>here</a> for more info. \n",
      "\u001b[1;31mView Jupyter <a href='command:jupyter.viewOutput'>log</a> for further details."
     ]
    }
   ],
   "source": [
    "# Instantiate a Multinomial Naive Bayes classifier\n",
    "mnb = MultinomialNB()\n",
    "\n",
    "# Fit the Multinomial Naive Bayes classifier to the training data.\n",
    "mnb.fit(Lema_cv_feature_word_train, y_train)\n",
    "\n",
    "# Use the trained classifier to predict the labels for the test set.\n",
    "predicted_y = mnb.predict(Lema_cv_feature_word_test)\n",
    "\n",
    "## EXECUTION TIMED OUT"
   ]
  },
  {
   "cell_type": "code",
   "execution_count": null,
   "id": "acfef337",
   "metadata": {},
   "outputs": [
    {
     "ename": "NameError",
     "evalue": "name 'confusion_matrix' is not defined",
     "output_type": "error",
     "traceback": [
      "\u001b[0;31m---------------------------------------------------------------------------\u001b[0m",
      "\u001b[0;31mNameError\u001b[0m                                 Traceback (most recent call last)",
      "Cell \u001b[0;32mIn[2], line 1\u001b[0m\n\u001b[0;32m----> 1\u001b[0m conf_matrix \u001b[38;5;241m=\u001b[39m \u001b[43mconfusion_matrix\u001b[49m(y_test, predicted_y)       \u001b[38;5;66;03m#(y, y_pred)\u001b[39;00m\n\u001b[1;32m      2\u001b[0m plt\u001b[38;5;241m.\u001b[39mfigure(figsize\u001b[38;5;241m=\u001b[39m(\u001b[38;5;241m10\u001b[39m, \u001b[38;5;241m7\u001b[39m))\n\u001b[1;32m      3\u001b[0m sns\u001b[38;5;241m.\u001b[39mheatmap(conf_matrix, annot\u001b[38;5;241m=\u001b[39m\u001b[38;5;28;01mTrue\u001b[39;00m, fmt\u001b[38;5;241m=\u001b[39m\u001b[38;5;124m'\u001b[39m\u001b[38;5;124mg\u001b[39m\u001b[38;5;124m'\u001b[39m, cmap\u001b[38;5;241m=\u001b[39m\u001b[38;5;124m'\u001b[39m\u001b[38;5;124mBlues\u001b[39m\u001b[38;5;124m'\u001b[39m)\n",
      "\u001b[0;31mNameError\u001b[0m: name 'confusion_matrix' is not defined"
     ]
    }
   ],
   "source": [
    "conf_matrix = confusion_matrix(y_test, predicted_y)       #(y, y_pred)\n",
    "plt.figure(figsize=(10, 7))\n",
    "sns.heatmap(conf_matrix, annot=True, fmt='g', cmap='Blues')\n",
    "plt.xlabel('Prediction')\n",
    "plt.ylabel('Ground Truth')\n",
    "plt.show()\n",
    "\n",
    "\n",
    "print(classification_report(y_test, predicted_y))"
   ]
  },
  {
   "cell_type": "markdown",
   "id": "a9d2293c",
   "metadata": {},
   "source": [
    " #### The Naive Bayes model predicted the class label with a 95% accuracy. The result demonstrates how well the simple algorithem, a Naive Bayes classifier, can perform for spam email detection."
   ]
  }
 ],
 "metadata": {
  "kernelspec": {
   "display_name": "Python 3 (ipykernel)",
   "language": "python",
   "name": "python3"
  },
  "language_info": {
   "codemirror_mode": {
    "name": "ipython",
    "version": 3
   },
   "file_extension": ".py",
   "mimetype": "text/x-python",
   "name": "python",
   "nbconvert_exporter": "python",
   "pygments_lexer": "ipython3",
   "version": "3.10.0"
  }
 },
 "nbformat": 4,
 "nbformat_minor": 5
}
