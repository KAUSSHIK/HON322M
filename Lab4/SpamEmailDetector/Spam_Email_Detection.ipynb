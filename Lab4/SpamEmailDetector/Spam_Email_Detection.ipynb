{
 "cells": [
  {
   "cell_type": "code",
   "execution_count": null,
   "id": "362f8cea",
   "metadata": {},
   "outputs": [],
   "source": [
    "import os\n",
    "import pandas as pd\n",
    "import numpy as np\n",
    "from sklearn.model_selection import train_test_split\n",
    "from sklearn.naive_bayes import MultinomialNB\n",
    "from sklearn.feature_extraction.text import CountVectorizer\n",
    "from sklearn.metrics import confusion_matrix, classification_report\n",
    "import matplotlib.pyplot as plt\n",
    "import seaborn as sns\n",
    "%matplotlib inline\n",
    "\n"
   ]
  },
  {
   "cell_type": "code",
   "execution_count": null,
   "id": "5ec3940d",
   "metadata": {},
   "outputs": [],
   "source": [
    "os.chdir('/Users/sheng/Jupyter/HON322M')"
   ]
  },
  {
   "cell_type": "markdown",
   "id": "da1fe350",
   "metadata": {},
   "source": [
    "# Understand data "
   ]
  },
  {
   "cell_type": "code",
   "execution_count": null,
   "id": "d8fd3054",
   "metadata": {},
   "outputs": [],
   "source": [
    "data = pd.read_csv('Email_data.csv')"
   ]
  },
  {
   "cell_type": "code",
   "execution_count": null,
   "id": "96ca4ee6",
   "metadata": {},
   "outputs": [],
   "source": [
    "data"
   ]
  },
  {
   "cell_type": "code",
   "execution_count": null,
   "id": "079859f2",
   "metadata": {},
   "outputs": [],
   "source": [
    "# Randomly select one spam email\n",
    "spam_email_sample = data[data['label'] == 1].sample(n=1)\n",
    "\n",
    "# Randomly select one not spam email\n",
    "non_spam_email_sample = data[data['label'] == 0].sample(n=1)\n",
    "\n",
    "# Print the samples\n",
    "print(\"Spam email sample:\")\n",
    "print(spam_email_sample['message'].values[0])\n",
    "print(\"=\" * 100)\n",
    "print(\"Non-spam email sample:\")\n",
    "print(non_spam_email_sample['message'].values[0])\n"
   ]
  },
  {
   "cell_type": "code",
   "execution_count": null,
   "id": "41439b76",
   "metadata": {},
   "outputs": [],
   "source": [
    "data['label'].value_counts()"
   ]
  },
  {
   "cell_type": "markdown",
   "id": "b6947811",
   "metadata": {},
   "source": [
    "# Data pre-processing"
   ]
  },
  {
   "cell_type": "markdown",
   "id": "234e8cb8",
   "metadata": {},
   "source": [
    "## Split data"
   ]
  },
  {
   "cell_type": "code",
   "execution_count": null,
   "id": "e8a1610c",
   "metadata": {},
   "outputs": [],
   "source": [
    "X = list(data['message'])"
   ]
  },
  {
   "cell_type": "code",
   "execution_count": null,
   "id": "4bb44eb9",
   "metadata": {},
   "outputs": [],
   "source": [
    "y = list(data['label'])"
   ]
  },
  {
   "cell_type": "code",
   "execution_count": null,
   "id": "3ed6d705",
   "metadata": {},
   "outputs": [],
   "source": [
    "X_train, X_test, y_train, y_test = train_test_split(X, y, \n",
    "                                                    test_size = 0.30, \n",
    "                                                    random_state = 369,    # produce the same split when run the code multiple times\n",
    "                                                    stratify = y)    # have same percentage of samples of each target class; e.g., 28% for test for each class"
   ]
  },
  {
   "cell_type": "code",
   "execution_count": null,
   "id": "b2974248",
   "metadata": {},
   "outputs": [],
   "source": [
    "pd.Series(y_train).value_counts()"
   ]
  },
  {
   "cell_type": "code",
   "execution_count": null,
   "id": "b9b353c6",
   "metadata": {
    "scrolled": true
   },
   "outputs": [],
   "source": [
    "pd.Series(y_test).value_counts()"
   ]
  },
  {
   "cell_type": "code",
   "execution_count": null,
   "id": "abf6f228",
   "metadata": {},
   "outputs": [],
   "source": [
    "# Add Lemmatization by extending CountVectorizer\n",
    "from nltk.stem import WordNetLemmatizer\n",
    "\n",
    "lemm = WordNetLemmatizer()\n",
    "class LemmaCountVectorizer(CountVectorizer):\n",
    "    def build_analyzer(self):\n",
    "        analyzer = super(LemmaCountVectorizer, self).build_analyzer()\n",
    "        return lambda doc: (lemm.lemmatize(w) for w in analyzer(doc))"
   ]
  },
  {
   "cell_type": "code",
   "execution_count": null,
   "id": "5600201c",
   "metadata": {},
   "outputs": [],
   "source": [
    "# use LemmaCountVectorizer to perform tokenization, lowercasing, stopwords removing, and lemmatization\n",
    "Lema_cv = LemmaCountVectorizer(stop_words = 'english')      \n",
    "Lema_cv_feature_word_train = Lema_cv.fit_transform(X_train).toarray()\n",
    "Lema_cv_feature_word_test = Lema_cv.transform(X_test).toarray()"
   ]
  },
  {
   "cell_type": "code",
   "execution_count": null,
   "id": "91153f57",
   "metadata": {},
   "outputs": [],
   "source": [
    "Lema_cv_feature_word_train.shape"
   ]
  },
  {
   "cell_type": "markdown",
   "id": "0645693e",
   "metadata": {},
   "source": [
    "## Model Training - Naive Bayes"
   ]
  },
  {
   "cell_type": "code",
   "execution_count": null,
   "id": "6312ca61",
   "metadata": {},
   "outputs": [],
   "source": [
    "# Instantiate a Multinomial Naive Bayes classifier\n",
    "mnb = MultinomialNB()\n",
    "\n",
    "# Fit the Multinomial Naive Bayes classifier to the training data.\n",
    "mnb.fit(Lema_cv_feature_word_train, y_train)\n",
    "\n",
    "# Use the trained classifier to predict the labels for the test set.\n",
    "predicted_y = mnb.predict(Lema_cv_feature_word_test)"
   ]
  },
  {
   "cell_type": "code",
   "execution_count": null,
   "id": "acfef337",
   "metadata": {},
   "outputs": [],
   "source": [
    "conf_matrix = confusion_matrix(y_test, predicted_y)       #(y, y_pred)\n",
    "plt.figure(figsize=(10, 7))\n",
    "sns.heatmap(conf_matrix, annot=True, fmt='g', cmap='Blues')\n",
    "plt.xlabel('Prediction')\n",
    "plt.ylabel('Ground Truth')\n",
    "plt.show()\n",
    "\n",
    "\n",
    "print(classification_report(y_test, predicted_y))"
   ]
  },
  {
   "cell_type": "markdown",
   "id": "a9d2293c",
   "metadata": {},
   "source": [
    " #### The Naive Bayes model predicted the class label with a 95% accuracy. The result demonstrates how well the simple algorithem, a Naive Bayes classifier, can perform for spam email detection."
   ]
  }
 ],
 "metadata": {
  "kernelspec": {
   "display_name": "Python 3 (ipykernel)",
   "language": "python",
   "name": "python3"
  },
  "language_info": {
   "codemirror_mode": {
    "name": "ipython",
    "version": 3
   },
   "file_extension": ".py",
   "mimetype": "text/x-python",
   "name": "python",
   "nbconvert_exporter": "python",
   "pygments_lexer": "ipython3",
   "version": "3.9.18"
  }
 },
 "nbformat": 4,
 "nbformat_minor": 5
}
