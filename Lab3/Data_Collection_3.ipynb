{
 "cells": [
  {
   "cell_type": "code",
   "execution_count": 1,
   "metadata": {},
   "outputs": [],
   "source": [
    "import os \n",
    "import requests \n",
    "import bs4\n",
    "import pandas as pd \n",
    "from selenium import webdriver \n",
    "from selenium.webdriver.chrome.service import Service \n",
    "from selenium.webdriver.chrome.options import Options \n",
    "from selenium.webdriver.common.by import By \n",
    "from selenium.webdriver.support.ui import WebDriverWait \n",
    "from selenium.webdriver. support import expected_conditions as EC\n",
    "import time"
   ]
  },
  {
   "cell_type": "code",
   "execution_count": 2,
   "metadata": {},
   "outputs": [],
   "source": [
    "os.chdir(\"/Users/kausshik/HON322M/Lab3\")"
   ]
  },
  {
   "cell_type": "code",
   "execution_count": 3,
   "metadata": {},
   "outputs": [],
   "source": [
    "url = \"https://www.google.com/maps/place/Elephant+Nature+Park/@19.2169619,98.8598287,18z/data=!4m10!1m2!2m1!1selephant+nature+park!3m6!1s0x30da3aa86b496d8f:0xdb2c200fd3b02b15!8m2!3d19.2164372!4d98.8613856!9m1!1b1\""
   ]
  },
  {
   "cell_type": "code",
   "execution_count": 4,
   "metadata": {},
   "outputs": [],
   "source": [
    "s = Service(\"/Users/kausshik/HON322M/Lab3/chromedriver\")\n",
    "driver = webdriver.Chrome(service = s, options=Options())\n",
    "\n",
    "driver.get(url)"
   ]
  },
  {
   "cell_type": "code",
   "execution_count": 5,
   "metadata": {},
   "outputs": [
    {
     "name": "stdout",
     "output_type": "stream",
     "text": [
      "3.10.0 (v3.10.0:b494f5935c, Oct  4 2021, 14:59:19) [Clang 12.0.5 (clang-1205.0.22.11)]\n"
     ]
    }
   ],
   "source": [
    "import sys\n",
    "print(sys.version)"
   ]
  },
  {
   "cell_type": "code",
   "execution_count": 6,
   "metadata": {},
   "outputs": [
    {
     "name": "stdout",
     "output_type": "stream",
     "text": [
      "4.19.0\n"
     ]
    }
   ],
   "source": [
    "import selenium\n",
    "print(selenium.__version__)"
   ]
  },
  {
   "cell_type": "code",
   "execution_count": 7,
   "metadata": {},
   "outputs": [
    {
     "name": "stdout",
     "output_type": "stream",
     "text": [
      "Collecting selenium==4.1.0\n",
      "  Downloading selenium-4.1.0-py3-none-any.whl.metadata (6.5 kB)\n",
      "Collecting urllib3~=1.26 (from urllib3[secure]~=1.26->selenium==4.1.0)\n",
      "  Downloading urllib3-1.26.18-py2.py3-none-any.whl.metadata (48 kB)\n",
      "\u001b[2K     \u001b[90m━━━━━━━━━━━━━━━━━━━━━━━━━━━━━━━━━━━━━━━━\u001b[0m \u001b[32m48.9/48.9 kB\u001b[0m \u001b[31m1.3 MB/s\u001b[0m eta \u001b[36m0:00:00\u001b[0m\n",
      "\u001b[?25hRequirement already satisfied: trio~=0.17 in /Users/kausshik/HON322M/venv/lib/python3.10/site-packages (from selenium==4.1.0) (0.25.0)\n",
      "Requirement already satisfied: trio-websocket~=0.9 in /Users/kausshik/HON322M/venv/lib/python3.10/site-packages (from selenium==4.1.0) (0.11.1)\n",
      "Requirement already satisfied: attrs>=23.2.0 in /Users/kausshik/HON322M/venv/lib/python3.10/site-packages (from trio~=0.17->selenium==4.1.0) (23.2.0)\n",
      "Requirement already satisfied: sortedcontainers in /Users/kausshik/HON322M/venv/lib/python3.10/site-packages (from trio~=0.17->selenium==4.1.0) (2.4.0)\n",
      "Requirement already satisfied: idna in /Users/kausshik/HON322M/venv/lib/python3.10/site-packages (from trio~=0.17->selenium==4.1.0) (3.6)\n",
      "Requirement already satisfied: outcome in /Users/kausshik/HON322M/venv/lib/python3.10/site-packages (from trio~=0.17->selenium==4.1.0) (1.3.0.post0)\n",
      "Requirement already satisfied: sniffio>=1.3.0 in /Users/kausshik/HON322M/venv/lib/python3.10/site-packages (from trio~=0.17->selenium==4.1.0) (1.3.1)\n",
      "Requirement already satisfied: exceptiongroup in /Users/kausshik/HON322M/venv/lib/python3.10/site-packages (from trio~=0.17->selenium==4.1.0) (1.2.0)\n",
      "Requirement already satisfied: wsproto>=0.14 in /Users/kausshik/HON322M/venv/lib/python3.10/site-packages (from trio-websocket~=0.9->selenium==4.1.0) (1.2.0)\n",
      "Collecting pyOpenSSL>=0.14 (from urllib3[secure]~=1.26->selenium==4.1.0)\n",
      "  Downloading pyOpenSSL-24.1.0-py3-none-any.whl.metadata (12 kB)\n",
      "Collecting cryptography>=1.3.4 (from urllib3[secure]~=1.26->selenium==4.1.0)\n",
      "  Downloading cryptography-42.0.5-cp39-abi3-macosx_10_12_universal2.whl.metadata (5.3 kB)\n",
      "Requirement already satisfied: certifi in /Users/kausshik/HON322M/venv/lib/python3.10/site-packages (from urllib3[secure]~=1.26->selenium==4.1.0) (2024.2.2)\n",
      "Collecting urllib3-secure-extra (from urllib3[secure]~=1.26->selenium==4.1.0)\n",
      "  Downloading urllib3_secure_extra-0.1.0-py2.py3-none-any.whl.metadata (828 bytes)\n",
      "Requirement already satisfied: cffi>=1.12 in /Users/kausshik/HON322M/venv/lib/python3.10/site-packages (from cryptography>=1.3.4->urllib3[secure]~=1.26->selenium==4.1.0) (1.16.0)\n",
      "Requirement already satisfied: h11<1,>=0.9.0 in /Users/kausshik/HON322M/venv/lib/python3.10/site-packages (from wsproto>=0.14->trio-websocket~=0.9->selenium==4.1.0) (0.14.0)\n",
      "Requirement already satisfied: pycparser in /Users/kausshik/HON322M/venv/lib/python3.10/site-packages (from cffi>=1.12->cryptography>=1.3.4->urllib3[secure]~=1.26->selenium==4.1.0) (2.21)\n",
      "Downloading selenium-4.1.0-py3-none-any.whl (958 kB)\n",
      "\u001b[2K   \u001b[90m━━━━━━━━━━━━━━━━━━━━━━━━━━━━━━━━━━━━━━━━\u001b[0m \u001b[32m958.8/958.8 kB\u001b[0m \u001b[31m11.8 MB/s\u001b[0m eta \u001b[36m0:00:00\u001b[0m00:01\u001b[0m0:01\u001b[0m\n",
      "\u001b[?25hDownloading urllib3-1.26.18-py2.py3-none-any.whl (143 kB)\n",
      "\u001b[2K   \u001b[90m━━━━━━━━━━━━━━━━━━━━━━━━━━━━━━━━━━━━━━━━\u001b[0m \u001b[32m143.8/143.8 kB\u001b[0m \u001b[31m6.6 MB/s\u001b[0m eta \u001b[36m0:00:00\u001b[0m\n",
      "\u001b[?25hDownloading cryptography-42.0.5-cp39-abi3-macosx_10_12_universal2.whl (5.9 MB)\n",
      "\u001b[2K   \u001b[90m━━━━━━━━━━━━━━━━━━━━━━━━━━━━━━━━━━━━━━━━\u001b[0m \u001b[32m5.9/5.9 MB\u001b[0m \u001b[31m31.2 MB/s\u001b[0m eta \u001b[36m0:00:00\u001b[0ma \u001b[36m0:00:01\u001b[0m\n",
      "\u001b[?25hDownloading pyOpenSSL-24.1.0-py3-none-any.whl (56 kB)\n",
      "\u001b[2K   \u001b[90m━━━━━━━━━━━━━━━━━━━━━━━━━━━━━━━━━━━━━━━━\u001b[0m \u001b[32m56.9/56.9 kB\u001b[0m \u001b[31m3.0 MB/s\u001b[0m eta \u001b[36m0:00:00\u001b[0m\n",
      "\u001b[?25hDownloading urllib3_secure_extra-0.1.0-py2.py3-none-any.whl (1.4 kB)\n",
      "Installing collected packages: urllib3-secure-extra, urllib3, cryptography, pyOpenSSL, selenium\n",
      "  Attempting uninstall: urllib3\n",
      "    Found existing installation: urllib3 2.2.1\n",
      "    Uninstalling urllib3-2.2.1:\n",
      "      Successfully uninstalled urllib3-2.2.1\n",
      "  Attempting uninstall: selenium\n",
      "    Found existing installation: selenium 4.19.0\n",
      "    Uninstalling selenium-4.19.0:\n",
      "      Successfully uninstalled selenium-4.19.0\n",
      "Successfully installed cryptography-42.0.5 pyOpenSSL-24.1.0 selenium-4.1.0 urllib3-1.26.18 urllib3-secure-extra-0.1.0\n"
     ]
    }
   ],
   "source": [
    "!{sys.executable} -m pip install selenium==4.1.0"
   ]
  },
  {
   "cell_type": "code",
   "execution_count": 10,
   "metadata": {},
   "outputs": [
    {
     "data": {
      "text/plain": [
       "7"
      ]
     },
     "execution_count": 10,
     "metadata": {},
     "output_type": "execute_result"
    }
   ],
   "source": [
    "viewMore = driver.find_elements(By.XPATH , \"//button[text()='More']\")\n",
    "len(viewMore)"
   ]
  },
  {
   "cell_type": "code",
   "execution_count": 15,
   "metadata": {},
   "outputs": [],
   "source": [
    "for i in range (0, len(viewMore)):\n",
    "    invisible = WebDriverWait(driver, 15).until(EC.presence_of_element_located((By.XPATH, \"//button[text()='More']\")))\n",
    "    driver.execute_script(\"arguments[0].click();\", invisible)\n",
    "    time.sleep(2)"
   ]
  },
  {
   "cell_type": "code",
   "execution_count": 16,
   "metadata": {},
   "outputs": [],
   "source": [
    "bs_obj = bs4.BeautifulSoup(driver.page_source, \"html.parser\")"
   ]
  },
  {
   "cell_type": "code",
   "execution_count": 17,
   "metadata": {},
   "outputs": [
    {
     "name": "stdout",
     "output_type": "stream",
     "text": [
      "8\n"
     ]
    }
   ],
   "source": [
    "reviews = bs_obj.find_all(\"div\", class_ = \"jJc9Ad\")\n",
    "print(len(reviews))"
   ]
  },
  {
   "cell_type": "code",
   "execution_count": 19,
   "metadata": {},
   "outputs": [
    {
     "data": {
      "text/plain": [
       "'Renee Richter'"
      ]
     },
     "execution_count": 19,
     "metadata": {},
     "output_type": "execute_result"
    }
   ],
   "source": [
    "#reviewer name\n",
    "reviews[0].find(\"div\", {\"class\" : \"d4r55\"}).text"
   ]
  }
 ],
 "metadata": {
  "kernelspec": {
   "display_name": "venv",
   "language": "python",
   "name": "python3"
  },
  "language_info": {
   "codemirror_mode": {
    "name": "ipython",
    "version": 3
   },
   "file_extension": ".py",
   "mimetype": "text/x-python",
   "name": "python",
   "nbconvert_exporter": "python",
   "pygments_lexer": "ipython3",
   "version": "3.10.0"
  }
 },
 "nbformat": 4,
 "nbformat_minor": 2
}
