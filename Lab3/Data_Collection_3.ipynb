{
 "cells": [
  {
   "cell_type": "code",
   "execution_count": 1,
   "metadata": {},
   "outputs": [],
   "source": [
    "import os \n",
    "import requests \n",
    "import bs4\n",
    "import pandas as pd \n",
    "from selenium import webdriver \n",
    "from selenium.webdriver.chrome.service import Service \n",
    "from selenium.webdriver.chrome.options import Options \n",
    "from selenium.webdriver.common.by import By \n",
    "from selenium.webdriver.support.ui import WebDriverWait \n",
    "from selenium.webdriver. support import expected_conditions as EC\n",
    "import time"
   ]
  },
  {
   "cell_type": "code",
   "execution_count": 2,
   "metadata": {},
   "outputs": [],
   "source": [
    "os.chdir(\"/Users/kausshik/HON322M/Lab3\")"
   ]
  },
  {
   "cell_type": "code",
   "execution_count": 3,
   "metadata": {},
   "outputs": [],
   "source": [
    "url = \"https://www.google.com/maps/place/Elephant+Nature+Park/@19.2169619,98.8598287,18z/data=!4m10!1m2!2m1!1selephant+nature+park!3m6!1s0x30da3aa86b496d8f:0xdb2c200fd3b02b15!8m2!3d19.2164372!4d98.8613856!9m1!1b1\""
   ]
  },
  {
   "cell_type": "code",
   "execution_count": 4,
   "metadata": {},
   "outputs": [],
   "source": [
    "s = Service(\"/Users/kausshik/HON322M/Lab3/chromedriver\")\n",
    "driver = webdriver.Chrome(service = s, options=Options())\n",
    "\n",
    "driver.get(url)"
   ]
  },
  {
   "cell_type": "code",
   "execution_count": 5,
   "metadata": {},
   "outputs": [
    {
     "name": "stdout",
     "output_type": "stream",
     "text": [
      "3.10.0 (v3.10.0:b494f5935c, Oct  4 2021, 14:59:19) [Clang 12.0.5 (clang-1205.0.22.11)]\n"
     ]
    }
   ],
   "source": [
    "import sys\n",
    "print(sys.version)"
   ]
  },
  {
   "cell_type": "code",
   "execution_count": 6,
   "metadata": {},
   "outputs": [
    {
     "name": "stdout",
     "output_type": "stream",
     "text": [
      "4.19.0\n"
     ]
    }
   ],
   "source": [
    "import selenium\n",
    "print(selenium.__version__)"
   ]
  },
  {
   "cell_type": "code",
   "execution_count": 7,
   "metadata": {},
   "outputs": [
    {
     "name": "stdout",
     "output_type": "stream",
     "text": [
      "Collecting selenium==4.1.0\n",
      "  Downloading selenium-4.1.0-py3-none-any.whl.metadata (6.5 kB)\n",
      "Collecting urllib3~=1.26 (from urllib3[secure]~=1.26->selenium==4.1.0)\n",
      "  Downloading urllib3-1.26.18-py2.py3-none-any.whl.metadata (48 kB)\n",
      "\u001b[2K     \u001b[90m━━━━━━━━━━━━━━━━━━━━━━━━━━━━━━━━━━━━━━━━\u001b[0m \u001b[32m48.9/48.9 kB\u001b[0m \u001b[31m1.3 MB/s\u001b[0m eta \u001b[36m0:00:00\u001b[0m\n",
      "\u001b[?25hRequirement already satisfied: trio~=0.17 in /Users/kausshik/HON322M/venv/lib/python3.10/site-packages (from selenium==4.1.0) (0.25.0)\n",
      "Requirement already satisfied: trio-websocket~=0.9 in /Users/kausshik/HON322M/venv/lib/python3.10/site-packages (from selenium==4.1.0) (0.11.1)\n",
      "Requirement already satisfied: attrs>=23.2.0 in /Users/kausshik/HON322M/venv/lib/python3.10/site-packages (from trio~=0.17->selenium==4.1.0) (23.2.0)\n",
      "Requirement already satisfied: sortedcontainers in /Users/kausshik/HON322M/venv/lib/python3.10/site-packages (from trio~=0.17->selenium==4.1.0) (2.4.0)\n",
      "Requirement already satisfied: idna in /Users/kausshik/HON322M/venv/lib/python3.10/site-packages (from trio~=0.17->selenium==4.1.0) (3.6)\n",
      "Requirement already satisfied: outcome in /Users/kausshik/HON322M/venv/lib/python3.10/site-packages (from trio~=0.17->selenium==4.1.0) (1.3.0.post0)\n",
      "Requirement already satisfied: sniffio>=1.3.0 in /Users/kausshik/HON322M/venv/lib/python3.10/site-packages (from trio~=0.17->selenium==4.1.0) (1.3.1)\n",
      "Requirement already satisfied: exceptiongroup in /Users/kausshik/HON322M/venv/lib/python3.10/site-packages (from trio~=0.17->selenium==4.1.0) (1.2.0)\n",
      "Requirement already satisfied: wsproto>=0.14 in /Users/kausshik/HON322M/venv/lib/python3.10/site-packages (from trio-websocket~=0.9->selenium==4.1.0) (1.2.0)\n",
      "Collecting pyOpenSSL>=0.14 (from urllib3[secure]~=1.26->selenium==4.1.0)\n",
      "  Downloading pyOpenSSL-24.1.0-py3-none-any.whl.metadata (12 kB)\n",
      "Collecting cryptography>=1.3.4 (from urllib3[secure]~=1.26->selenium==4.1.0)\n",
      "  Downloading cryptography-42.0.5-cp39-abi3-macosx_10_12_universal2.whl.metadata (5.3 kB)\n",
      "Requirement already satisfied: certifi in /Users/kausshik/HON322M/venv/lib/python3.10/site-packages (from urllib3[secure]~=1.26->selenium==4.1.0) (2024.2.2)\n",
      "Collecting urllib3-secure-extra (from urllib3[secure]~=1.26->selenium==4.1.0)\n",
      "  Downloading urllib3_secure_extra-0.1.0-py2.py3-none-any.whl.metadata (828 bytes)\n",
      "Requirement already satisfied: cffi>=1.12 in /Users/kausshik/HON322M/venv/lib/python3.10/site-packages (from cryptography>=1.3.4->urllib3[secure]~=1.26->selenium==4.1.0) (1.16.0)\n",
      "Requirement already satisfied: h11<1,>=0.9.0 in /Users/kausshik/HON322M/venv/lib/python3.10/site-packages (from wsproto>=0.14->trio-websocket~=0.9->selenium==4.1.0) (0.14.0)\n",
      "Requirement already satisfied: pycparser in /Users/kausshik/HON322M/venv/lib/python3.10/site-packages (from cffi>=1.12->cryptography>=1.3.4->urllib3[secure]~=1.26->selenium==4.1.0) (2.21)\n",
      "Downloading selenium-4.1.0-py3-none-any.whl (958 kB)\n",
      "\u001b[2K   \u001b[90m━━━━━━━━━━━━━━━━━━━━━━━━━━━━━━━━━━━━━━━━\u001b[0m \u001b[32m958.8/958.8 kB\u001b[0m \u001b[31m11.8 MB/s\u001b[0m eta \u001b[36m0:00:00\u001b[0m00:01\u001b[0m0:01\u001b[0m\n",
      "\u001b[?25hDownloading urllib3-1.26.18-py2.py3-none-any.whl (143 kB)\n",
      "\u001b[2K   \u001b[90m━━━━━━━━━━━━━━━━━━━━━━━━━━━━━━━━━━━━━━━━\u001b[0m \u001b[32m143.8/143.8 kB\u001b[0m \u001b[31m6.6 MB/s\u001b[0m eta \u001b[36m0:00:00\u001b[0m\n",
      "\u001b[?25hDownloading cryptography-42.0.5-cp39-abi3-macosx_10_12_universal2.whl (5.9 MB)\n",
      "\u001b[2K   \u001b[90m━━━━━━━━━━━━━━━━━━━━━━━━━━━━━━━━━━━━━━━━\u001b[0m \u001b[32m5.9/5.9 MB\u001b[0m \u001b[31m31.2 MB/s\u001b[0m eta \u001b[36m0:00:00\u001b[0ma \u001b[36m0:00:01\u001b[0m\n",
      "\u001b[?25hDownloading pyOpenSSL-24.1.0-py3-none-any.whl (56 kB)\n",
      "\u001b[2K   \u001b[90m━━━━━━━━━━━━━━━━━━━━━━━━━━━━━━━━━━━━━━━━\u001b[0m \u001b[32m56.9/56.9 kB\u001b[0m \u001b[31m3.0 MB/s\u001b[0m eta \u001b[36m0:00:00\u001b[0m\n",
      "\u001b[?25hDownloading urllib3_secure_extra-0.1.0-py2.py3-none-any.whl (1.4 kB)\n",
      "Installing collected packages: urllib3-secure-extra, urllib3, cryptography, pyOpenSSL, selenium\n",
      "  Attempting uninstall: urllib3\n",
      "    Found existing installation: urllib3 2.2.1\n",
      "    Uninstalling urllib3-2.2.1:\n",
      "      Successfully uninstalled urllib3-2.2.1\n",
      "  Attempting uninstall: selenium\n",
      "    Found existing installation: selenium 4.19.0\n",
      "    Uninstalling selenium-4.19.0:\n",
      "      Successfully uninstalled selenium-4.19.0\n",
      "Successfully installed cryptography-42.0.5 pyOpenSSL-24.1.0 selenium-4.1.0 urllib3-1.26.18 urllib3-secure-extra-0.1.0\n"
     ]
    }
   ],
   "source": [
    "!{sys.executable} -m pip install selenium==4.1.0"
   ]
  },
  {
   "cell_type": "code",
   "execution_count": 10,
   "metadata": {},
   "outputs": [
    {
     "data": {
      "text/plain": [
       "7"
      ]
     },
     "execution_count": 10,
     "metadata": {},
     "output_type": "execute_result"
    }
   ],
   "source": [
    "viewMore = driver.find_elements(By.XPATH , \"//button[text()='More']\")\n",
    "len(viewMore)"
   ]
  },
  {
   "cell_type": "code",
   "execution_count": 15,
   "metadata": {},
   "outputs": [],
   "source": [
    "for i in range (0, len(viewMore)):\n",
    "    invisible = WebDriverWait(driver, 15).until(EC.presence_of_element_located((By.XPATH, \"//button[text()='More']\")))\n",
    "    driver.execute_script(\"arguments[0].click();\", invisible)\n",
    "    time.sleep(2)"
   ]
  },
  {
   "cell_type": "code",
   "execution_count": 16,
   "metadata": {},
   "outputs": [],
   "source": [
    "bs_obj = bs4.BeautifulSoup(driver.page_source, \"html.parser\")"
   ]
  },
  {
   "cell_type": "code",
   "execution_count": 17,
   "metadata": {},
   "outputs": [
    {
     "name": "stdout",
     "output_type": "stream",
     "text": [
      "8\n"
     ]
    }
   ],
   "source": [
    "reviews = bs_obj.find_all(\"div\", class_ = \"jJc9Ad\")\n",
    "print(len(reviews))"
   ]
  },
  {
   "cell_type": "code",
   "execution_count": 19,
   "metadata": {},
   "outputs": [
    {
     "data": {
      "text/plain": [
       "'Renee Richter'"
      ]
     },
     "execution_count": 19,
     "metadata": {},
     "output_type": "execute_result"
    }
   ],
   "source": [
    "#reviewer name\n",
    "reviews[0].find(\"div\", {\"class\" : \"d4r55\"}).text"
   ]
  },
  {
   "cell_type": "code",
   "execution_count": 20,
   "metadata": {},
   "outputs": [
    {
     "data": {
      "text/plain": [
       "'a week ago'"
      ]
     },
     "execution_count": 20,
     "metadata": {},
     "output_type": "execute_result"
    }
   ],
   "source": [
    "#review date\n",
    "reviews[0].find(\"span\", {\"class\" : \"rsqaWe\"}).text"
   ]
  },
  {
   "cell_type": "code",
   "execution_count": 21,
   "metadata": {},
   "outputs": [
    {
     "data": {
      "text/plain": [
       "<span aria-label=\"5 stars\" class=\"kvMYJc\" role=\"img\"><span aria-hidden=\"true\" class=\"hCCjke vzX5Ic google-symbols NhBTye\"></span><span aria-hidden=\"true\" class=\"hCCjke vzX5Ic google-symbols NhBTye\"></span><span aria-hidden=\"true\" class=\"hCCjke vzX5Ic google-symbols NhBTye\"></span><span aria-hidden=\"true\" class=\"hCCjke vzX5Ic google-symbols NhBTye\"></span><span aria-hidden=\"true\" class=\"hCCjke vzX5Ic google-symbols NhBTye\"></span></span>"
      ]
     },
     "execution_count": 21,
     "metadata": {},
     "output_type": "execute_result"
    }
   ],
   "source": [
    "#review rating\n",
    "reviews[0].find(\"span\", {\"class\" : \"kvMYJc\"})"
   ]
  },
  {
   "cell_type": "code",
   "execution_count": 22,
   "metadata": {},
   "outputs": [
    {
     "data": {
      "text/plain": [
       "'5 stars'"
      ]
     },
     "execution_count": 22,
     "metadata": {},
     "output_type": "execute_result"
    }
   ],
   "source": [
    "#aria-label for the review\n",
    "reviews[0].find(\"span\", {\"class\" : \"kvMYJc\"})['aria-label']"
   ]
  },
  {
   "cell_type": "code",
   "execution_count": 23,
   "metadata": {},
   "outputs": [
    {
     "data": {
      "text/plain": [
       "'5'"
      ]
     },
     "execution_count": 23,
     "metadata": {},
     "output_type": "execute_result"
    }
   ],
   "source": [
    "#aria-label for the review, and a split\n",
    "reviews[0].find(\"span\", {\"class\" : \"kvMYJc\"})['aria-label'].split(\" \")[0]"
   ]
  },
  {
   "cell_type": "code",
   "execution_count": 24,
   "metadata": {},
   "outputs": [
    {
     "data": {
      "text/plain": [
       "'5'"
      ]
     },
     "execution_count": 24,
     "metadata": {},
     "output_type": "execute_result"
    }
   ],
   "source": [
    "# review rating\n",
    "reviews[0].find(\"span\", {\"class\" : \"kvMYJc\"})['aria-label'].split(\" \")[0]"
   ]
  },
  {
   "cell_type": "code",
   "execution_count": 25,
   "metadata": {},
   "outputs": [
    {
     "data": {
      "text/plain": [
       "'Absolutely lovely experience visiting this animal shelter. and great way to support the animals they rescue.\\n\\nWe found Elephant Nature Park through a website listing of ethical animal sanctuaries. We booked the afternoon half day experience directly through their website for 2500baht per person, including transportation and a meal. No riding, no bathing, just observing the elephants in their natural way.\\n\\nThey also rescue other animals including dogs, cats, and water buffalo. Our guide, Ging, was knowledgeable, funny and helpful. He told us stories about the elephants we encountered and where they were rescued from. We were really impressed with their whole operation and how they all care for the animals. Definitely recommend for anyone who loves animals!'"
      ]
     },
     "execution_count": 25,
     "metadata": {},
     "output_type": "execute_result"
    }
   ],
   "source": [
    "# review text\n",
    "reviews[0].find(\"span\", {\"class\" : \"wiI7pd\"}).text"
   ]
  },
  {
   "cell_type": "code",
   "execution_count": 26,
   "metadata": {},
   "outputs": [
    {
     "name": "stdout",
     "output_type": "stream",
     "text": [
      "Renee Richter\n",
      "a week ago\n",
      "5\n",
      "Absolutely lovely experience visiting this animal shelter. and great way to support the animals they rescue.\n",
      "\n",
      "We found Elephant Nature Park through a website listing of ethical animal sanctuaries. We booked the afternoon half day experience directly through their website for 2500baht per person, including transportation and a meal. No riding, no bathing, just observing the elephants in their natural way.\n",
      "\n",
      "They also rescue other animals including dogs, cats, and water buffalo. Our guide, Ging, was knowledgeable, funny and helpful. He told us stories about the elephants we encountered and where they were rescued from. We were really impressed with their whole operation and how they all care for the animals. Definitely recommend for anyone who loves animals!\n",
      "====================================================================================================\n",
      "\n",
      "David Hill\n",
      "2 weeks ago\n",
      "5\n",
      "The best place to see elephants in Thailand. Everyone there clearly really care about the animals, our guides knew all 100 or so of them by name, and everything about them. The elephants all seem really happy - there's no riding or bathing …\n",
      "====================================================================================================\n",
      "\n",
      "Michael Ojeda\n",
      "2 weeks ago\n",
      "5\n",
      "This place is really great. We got the overnight experience and thought it was definitely worth it. The animals are really well cared for and the facilities are top notch. Something like 200+ acres and over 120 elephants. You get to spend …\n",
      "====================================================================================================\n",
      "\n",
      "Dávid Harmath\n",
      "a month ago\n",
      "5\n",
      "One of the few really ethical elephant rescue parks. Our guide En was amazing, she seemed to enjoy every moment just like us.\n",
      "I can only recommend it. I know the price is high, but they have a lot of …\n",
      "====================================================================================================\n",
      "\n",
      "Diane Rogers\n",
      "a month ago\n",
      "5\n",
      "Highly recommend coming here - excellent facilities, well maintained and amazing care for their animals (elephants, dogs, cats). I felt that the money paid went to great cause. We did the 1/2 day morning, so was anxious when I saw crowds …\n",
      "====================================================================================================\n",
      "\n",
      "jessica bailey\n",
      "2 weeks ago\n",
      "5\n",
      "The most amazing experience\n",
      "This place is amazing and the work done here by the staff and volunteers is admirable. …\n",
      "====================================================================================================\n",
      "\n",
      "Izzy the Bricky\n",
      "2 months ago\n",
      "5\n",
      "The most amazing and real place to see elephants living in their natural habitat! Elephant Nature Park, is one of very few places in Thailand where there's NO riding or bathing them! This is a very good thing, as these activities actually …\n",
      "====================================================================================================\n",
      "\n",
      "Jodie Bowpitt\n",
      "a month ago\n",
      "5\n",
      "The most beautiful experience. Por our tour guide was amazing and so knowledgeable. A community that really looks after the elephants. We did a half day and the lunch provided was amazing, and fully vegan. The rescued dogs was a bonus too!\n",
      "====================================================================================================\n",
      "\n"
     ]
    }
   ],
   "source": [
    "# Bringing it all together\n",
    "reviewers, review_dates, review_ratings, texts = [], [], [], []\n",
    "\n",
    "for review in reviews:\n",
    "    reviewer = review.find(\"div\", {\"class\" : \"d4r55\"}).text\n",
    "    review_date = review.find(\"span\", {\"class\" : \"rsqaWe\"}).text\n",
    "    review_rating = review.find(\"span\", {\"class\" : \"kvMYJc\"})['aria-label'].split(\" \")[0]\n",
    "    review_text = review.find(\"span\", {\"class\" : \"wiI7pd\"}).text\n",
    "\n",
    "    # append to lists\n",
    "    reviewers.append(reviewer)\n",
    "    review_dates.append(review_date)\n",
    "    review_ratings.append(review_rating)\n",
    "    texts.append(review_text)\n",
    "\n",
    "    # print to check\n",
    "    print(reviewer)\n",
    "    print(review_date)\n",
    "    print(review_rating)\n",
    "    print(review_text)\n",
    "    print(\"==\" * 50 + '\\n')\n"
   ]
  },
  {
   "cell_type": "code",
   "execution_count": 27,
   "metadata": {},
   "outputs": [
    {
     "data": {
      "text/html": [
       "<div>\n",
       "<style scoped>\n",
       "    .dataframe tbody tr th:only-of-type {\n",
       "        vertical-align: middle;\n",
       "    }\n",
       "\n",
       "    .dataframe tbody tr th {\n",
       "        vertical-align: top;\n",
       "    }\n",
       "\n",
       "    .dataframe thead th {\n",
       "        text-align: right;\n",
       "    }\n",
       "</style>\n",
       "<table border=\"1\" class=\"dataframe\">\n",
       "  <thead>\n",
       "    <tr style=\"text-align: right;\">\n",
       "      <th></th>\n",
       "      <th>reviewer</th>\n",
       "      <th>review_date</th>\n",
       "      <th>review_rating</th>\n",
       "      <th>review_text</th>\n",
       "    </tr>\n",
       "  </thead>\n",
       "  <tbody>\n",
       "    <tr>\n",
       "      <th>0</th>\n",
       "      <td>Renee Richter</td>\n",
       "      <td>a week ago</td>\n",
       "      <td>5</td>\n",
       "      <td>Absolutely lovely experience visiting this ani...</td>\n",
       "    </tr>\n",
       "    <tr>\n",
       "      <th>1</th>\n",
       "      <td>David Hill</td>\n",
       "      <td>2 weeks ago</td>\n",
       "      <td>5</td>\n",
       "      <td>The best place to see elephants in Thailand. E...</td>\n",
       "    </tr>\n",
       "    <tr>\n",
       "      <th>2</th>\n",
       "      <td>Michael Ojeda</td>\n",
       "      <td>2 weeks ago</td>\n",
       "      <td>5</td>\n",
       "      <td>This place is really great. We got the overnig...</td>\n",
       "    </tr>\n",
       "    <tr>\n",
       "      <th>3</th>\n",
       "      <td>Dávid Harmath</td>\n",
       "      <td>a month ago</td>\n",
       "      <td>5</td>\n",
       "      <td>One of the few really ethical elephant rescue ...</td>\n",
       "    </tr>\n",
       "    <tr>\n",
       "      <th>4</th>\n",
       "      <td>Diane Rogers</td>\n",
       "      <td>a month ago</td>\n",
       "      <td>5</td>\n",
       "      <td>Highly recommend coming here - excellent facil...</td>\n",
       "    </tr>\n",
       "    <tr>\n",
       "      <th>5</th>\n",
       "      <td>jessica bailey</td>\n",
       "      <td>2 weeks ago</td>\n",
       "      <td>5</td>\n",
       "      <td>The most amazing experience\\nThis place is ama...</td>\n",
       "    </tr>\n",
       "    <tr>\n",
       "      <th>6</th>\n",
       "      <td>Izzy the Bricky</td>\n",
       "      <td>2 months ago</td>\n",
       "      <td>5</td>\n",
       "      <td>The most amazing and real place to see elephan...</td>\n",
       "    </tr>\n",
       "    <tr>\n",
       "      <th>7</th>\n",
       "      <td>Jodie Bowpitt</td>\n",
       "      <td>a month ago</td>\n",
       "      <td>5</td>\n",
       "      <td>The most beautiful experience. Por our tour gu...</td>\n",
       "    </tr>\n",
       "  </tbody>\n",
       "</table>\n",
       "</div>"
      ],
      "text/plain": [
       "          reviewer   review_date review_rating  \\\n",
       "0    Renee Richter    a week ago             5   \n",
       "1       David Hill   2 weeks ago             5   \n",
       "2    Michael Ojeda   2 weeks ago             5   \n",
       "3    Dávid Harmath   a month ago             5   \n",
       "4     Diane Rogers   a month ago             5   \n",
       "5   jessica bailey   2 weeks ago             5   \n",
       "6  Izzy the Bricky  2 months ago             5   \n",
       "7    Jodie Bowpitt   a month ago             5   \n",
       "\n",
       "                                         review_text  \n",
       "0  Absolutely lovely experience visiting this ani...  \n",
       "1  The best place to see elephants in Thailand. E...  \n",
       "2  This place is really great. We got the overnig...  \n",
       "3  One of the few really ethical elephant rescue ...  \n",
       "4  Highly recommend coming here - excellent facil...  \n",
       "5  The most amazing experience\\nThis place is ama...  \n",
       "6  The most amazing and real place to see elephan...  \n",
       "7  The most beautiful experience. Por our tour gu...  "
      ]
     },
     "execution_count": 27,
     "metadata": {},
     "output_type": "execute_result"
    }
   ],
   "source": [
    "# create a dataframe\n",
    "df = pd.DataFrame({\n",
    "    'reviewer' : reviewers,\n",
    "    'review_date' : review_dates,\n",
    "    'review_rating' : review_ratings,\n",
    "    'review_text' : texts\n",
    "})\n",
    "\n",
    "df"
   ]
  },
  {
   "cell_type": "code",
   "execution_count": null,
   "metadata": {},
   "outputs": [],
   "source": [
    "# Export to CSV\n",
    "df.to_csv(\"Google_review.csv\")"
   ]
  }
 ],
 "metadata": {
  "kernelspec": {
   "display_name": "venv",
   "language": "python",
   "name": "python3"
  },
  "language_info": {
   "codemirror_mode": {
    "name": "ipython",
    "version": 3
   },
   "file_extension": ".py",
   "mimetype": "text/x-python",
   "name": "python",
   "nbconvert_exporter": "python",
   "pygments_lexer": "ipython3",
   "version": "3.10.0"
  }
 },
 "nbformat": 4,
 "nbformat_minor": 2
}
