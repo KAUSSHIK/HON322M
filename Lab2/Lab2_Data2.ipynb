{
 "cells": [
  {
   "cell_type": "code",
   "execution_count": 1,
   "metadata": {},
   "outputs": [],
   "source": [
    "import os\n",
    "import requests\n",
    "import bs4\n",
    "import pandas as pd"
   ]
  },
  {
   "cell_type": "code",
   "execution_count": 2,
   "metadata": {},
   "outputs": [],
   "source": [
    "os.chdir(\"/Users/kausshik/HON322M\")"
   ]
  },
  {
   "cell_type": "code",
   "execution_count": 3,
   "metadata": {},
   "outputs": [],
   "source": [
    "df = 'https://www.boxofficemojo.com/year/2023/?ref_=bo_yl_table_2'\n",
    "\n",
    "page = requests.get(df)\n",
    "\n",
    "bs_obj = bs4.BeautifulSoup(page.content, 'html.parser')\n",
    "\n",
    "movie = bs_obj.find_all(\"tr\")"
   ]
  },
  {
   "cell_type": "code",
   "execution_count": 9,
   "metadata": {},
   "outputs": [
    {
     "data": {
      "text/plain": [
       "'Barbie'"
      ]
     },
     "execution_count": 9,
     "metadata": {},
     "output_type": "execute_result"
    }
   ],
   "source": [
    "movie[1].find(\"a\", {\"class\": \"a-link-normal\"}).text"
   ]
  },
  {
   "cell_type": "code",
   "execution_count": 11,
   "metadata": {},
   "outputs": [
    {
     "data": {
      "text/plain": [
       "[<a class=\"a-link-normal\" href=\"/release/rl1077904129/?ref_=bo_yld_table_1\">Barbie</a>,\n",
       " <a class=\"a-link-normal\" href=\"https://pro.imdb.com/company/co0002663/boxoffice/?view=releases&amp;ref_=mojo_yld_table_1&amp;rf=mojo_yld_table_1\" rel=\"noopener\" target=\"_blank\">Warner Bros.<svg class=\"mojo-new-window-svg\" viewbox=\"0 0 32 32\" xmlns=\"http://www.w3.org/2000/svg\">\n",
       " <path d=\"M24,15.57251l3,3V23.5A3.50424,3.50424,0,0,1,23.5,27H8.5A3.50424,3.50424,0,0,1,5,23.5V8.5A3.50424,3.50424,0,0,1,8.5,5h4.92755l3,3H8.5a.50641.50641,0,0,0-.5.5v15a.50641.50641,0,0,0,.5.5h15a.50641.50641,0,0,0,.5-.5ZM19.81952,8.56372,12.8844,17.75a.49989.49989,0,0,0,.04547.65479l.66534.66528a.49983.49983,0,0,0,.65479.04553l9.18628-6.93518,2.12579,2.12585a.5.5,0,0,0,.84741-.27526l1.48273-9.35108a.50006.50006,0,0,0-.57214-.57214L17.969,5.59058a.5.5,0,0,0-.27526.84741Z\"></path>\n",
       " </svg></a>]"
      ]
     },
     "execution_count": 11,
     "metadata": {},
     "output_type": "execute_result"
    }
   ],
   "source": [
    "movie[1].find_all(\"a\", {\"class\": \"a-link-normal\"})"
   ]
  },
  {
   "cell_type": "code",
   "execution_count": 12,
   "metadata": {},
   "outputs": [
    {
     "data": {
      "text/plain": [
       "<a class=\"a-link-normal\" href=\"/release/rl1077904129/?ref_=bo_yld_table_1\">Barbie</a>"
      ]
     },
     "execution_count": 12,
     "metadata": {},
     "output_type": "execute_result"
    }
   ],
   "source": [
    "movie[1].find_all(\"a\", {\"class\": \"a-link-normal\"})[0]"
   ]
  },
  {
   "cell_type": "code",
   "execution_count": 13,
   "metadata": {},
   "outputs": [
    {
     "data": {
      "text/plain": [
       "<a class=\"a-link-normal\" href=\"https://pro.imdb.com/company/co0002663/boxoffice/?view=releases&amp;ref_=mojo_yld_table_1&amp;rf=mojo_yld_table_1\" rel=\"noopener\" target=\"_blank\">Warner Bros.<svg class=\"mojo-new-window-svg\" viewbox=\"0 0 32 32\" xmlns=\"http://www.w3.org/2000/svg\">\n",
       "<path d=\"M24,15.57251l3,3V23.5A3.50424,3.50424,0,0,1,23.5,27H8.5A3.50424,3.50424,0,0,1,5,23.5V8.5A3.50424,3.50424,0,0,1,8.5,5h4.92755l3,3H8.5a.50641.50641,0,0,0-.5.5v15a.50641.50641,0,0,0,.5.5h15a.50641.50641,0,0,0,.5-.5ZM19.81952,8.56372,12.8844,17.75a.49989.49989,0,0,0,.04547.65479l.66534.66528a.49983.49983,0,0,0,.65479.04553l9.18628-6.93518,2.12579,2.12585a.5.5,0,0,0,.84741-.27526l1.48273-9.35108a.50006.50006,0,0,0-.57214-.57214L17.969,5.59058a.5.5,0,0,0-.27526.84741Z\"></path>\n",
       "</svg></a>"
      ]
     },
     "execution_count": 13,
     "metadata": {},
     "output_type": "execute_result"
    }
   ],
   "source": [
    "movie[1].find_all(\"a\", {\"class\": \"a-link-normal\"})[1]"
   ]
  },
  {
   "cell_type": "code",
   "execution_count": 14,
   "metadata": {},
   "outputs": [
    {
     "data": {
      "text/plain": [
       "'Warner Bros.\\n\\n'"
      ]
     },
     "execution_count": 14,
     "metadata": {},
     "output_type": "execute_result"
    }
   ],
   "source": [
    "movie[1].find_all(\"a\", {\"class\": \"a-link-normal\"})[1].text"
   ]
  },
  {
   "cell_type": "code",
   "execution_count": 15,
   "metadata": {},
   "outputs": [
    {
     "data": {
      "text/plain": [
       "['Warner Bros.', '']"
      ]
     },
     "execution_count": 15,
     "metadata": {},
     "output_type": "execute_result"
    }
   ],
   "source": [
    "movie[1].find_all(\"a\", {\"class\": \"a-link-normal\"})[1].text.split(\"\\n\\n\")"
   ]
  },
  {
   "cell_type": "code",
   "execution_count": 16,
   "metadata": {},
   "outputs": [
    {
     "data": {
      "text/plain": [
       "'Warner Bros.'"
      ]
     },
     "execution_count": 16,
     "metadata": {},
     "output_type": "execute_result"
    }
   ],
   "source": [
    "movie[1].find_all(\"a\", {\"class\": \"a-link-normal\"})[1].text.split(\"\\n\\n\")[0]"
   ]
  },
  {
   "cell_type": "code",
   "execution_count": null,
   "metadata": {},
   "outputs": [],
   "source": []
  },
  {
   "cell_type": "code",
   "execution_count": 19,
   "metadata": {},
   "outputs": [],
   "source": [
    "movie_title = []\n",
    "movie_gross = []\n",
    "movie_theaters = []\n",
    "movie_date = []\n",
    "movie_distributor = []"
   ]
  },
  {
   "cell_type": "code",
   "execution_count": 21,
   "metadata": {},
   "outputs": [
    {
     "name": "stdout",
     "output_type": "stream",
     "text": [
      "                                   Title         Gross Theaters    Date  \\\n",
      "0                                 Barbie  $636,225,983    4,337  Jul 21   \n",
      "1            The Super Mario Bros. Movie  $574,934,330    4,371   Apr 5   \n",
      "2    Spider-Man: Across the Spider-Verse  $381,311,319    4,332   Jun 2   \n",
      "3         Guardians of the Galaxy Vol. 3  $358,995,815    4,450   May 5   \n",
      "4                            Oppenheimer  $326,101,370    3,761  Jul 21   \n",
      "..                                   ...           ...      ...     ...   \n",
      "195                                Emily    $1,097,067      579  Feb 17   \n",
      "196                Knights of the Zodiac    $1,090,155      588  May 12   \n",
      "197                               Broker    $1,001,892      271  Dec 23   \n",
      "198                           Showing Up      $972,074      115   Apr 7   \n",
      "199                               Inside      $918,415      357  Mar 17   \n",
      "\n",
      "                             Distributor  \n",
      "0                           Warner Bros.  \n",
      "1                     Universal Pictures  \n",
      "2                      Columbia Pictures  \n",
      "3    Walt Disney Studios Motion Pictures  \n",
      "4                     Universal Pictures  \n",
      "..                                   ...  \n",
      "195                Bleecker Street Media  \n",
      "196                                   NA  \n",
      "197                                 Neon  \n",
      "198                                  A24  \n",
      "199                       Focus Features  \n",
      "\n",
      "[200 rows x 5 columns]\n"
     ]
    }
   ],
   "source": [
    "for item in movie[1:]:\n",
    "    title = item.find(\"a\", {\"class\": \"a-link-normal\"}).text\n",
    "    gross = item.find(\"td\", {\"class\": \"a-text-right mojo-field-type-money mojo-estimatable\"}).text\n",
    "    theaters = item.find(\"td\", {\"class\": \"a-text-right mojo-field-type-positive_integer\"}).text\n",
    "    date = item.find(\"td\", {\"class\": \"a-text-left mojo-field-type-date a-nowrap\"}).text\n",
    "    try:\n",
    "        studio = item.find_all(\"a\", {\"class\": \"a-link-normal\"})[1].text.split(\"\\n\\n\")[0]\n",
    "    except:\n",
    "        studio = \"NA\"\n",
    "\n",
    "    movie_title.append(title)\n",
    "    movie_gross.append(gross)\n",
    "    movie_theaters.append(theaters)\n",
    "    movie_date.append(date)\n",
    "    movie_distributor.append(studio)\n",
    "\n",
    "iter_df = pd.DataFrame({\"Title\": movie_title, \"Gross\": movie_gross, \"Theaters\": movie_theaters, \"Date\": movie_date, \"Distributor\": movie_distributor})\n",
    "print(iter_df)"
   ]
  }
 ],
 "metadata": {
  "kernelspec": {
   "display_name": "venv",
   "language": "python",
   "name": "python3"
  },
  "language_info": {
   "codemirror_mode": {
    "name": "ipython",
    "version": 3
   },
   "file_extension": ".py",
   "mimetype": "text/x-python",
   "name": "python",
   "nbconvert_exporter": "python",
   "pygments_lexer": "ipython3",
   "version": "3.10.0"
  }
 },
 "nbformat": 4,
 "nbformat_minor": 2
}
