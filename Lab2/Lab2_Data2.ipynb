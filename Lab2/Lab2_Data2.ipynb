{
 "cells": [
  {
   "cell_type": "code",
   "execution_count": 3,
   "metadata": {},
   "outputs": [],
   "source": [
    "import os\n",
    "import requests\n",
    "import bs4\n",
    "import pandas as pd"
   ]
  },
  {
   "cell_type": "code",
   "execution_count": 4,
   "metadata": {},
   "outputs": [],
   "source": [
    "os.chdir(\"/Users/kausshik/HON322M\")"
   ]
  },
  {
   "cell_type": "code",
   "execution_count": 17,
   "metadata": {},
   "outputs": [],
   "source": [
    "#df = 'https://www.boxofficemojo.com/year/2023/?ref_=bo_yl_table_2'\n",
    "df = 'https://www.boxofficemojo.com/year/2022/?ref_=bo_yl_table_2'\n",
    "\n",
    "page = requests.get(df)\n",
    "\n",
    "bs_obj = bs4.BeautifulSoup(page.content, 'html.parser')\n",
    "\n",
    "movie = bs_obj.find_all(\"tr\")"
   ]
  },
  {
   "cell_type": "code",
   "execution_count": 18,
   "metadata": {},
   "outputs": [
    {
     "data": {
      "text/plain": [
       "'Top Gun: Maverick'"
      ]
     },
     "execution_count": 18,
     "metadata": {},
     "output_type": "execute_result"
    }
   ],
   "source": [
    "movie[1].find(\"a\", {\"class\": \"a-link-normal\"}).text"
   ]
  },
  {
   "cell_type": "code",
   "execution_count": 19,
   "metadata": {},
   "outputs": [
    {
     "data": {
      "text/plain": [
       "[<a class=\"a-link-normal\" href=\"/release/rl2500036097/?ref_=bo_yld_table_1\">Top Gun: Maverick</a>,\n",
       " <a class=\"a-link-normal\" href=\"https://pro.imdb.com/company/co0023400/boxoffice/?view=releases&amp;ref_=mojo_yld_table_1&amp;rf=mojo_yld_table_1\" rel=\"noopener\" target=\"_blank\">Paramount Pictures<svg class=\"mojo-new-window-svg\" viewbox=\"0 0 32 32\" xmlns=\"http://www.w3.org/2000/svg\">\n",
       " <path d=\"M24,15.57251l3,3V23.5A3.50424,3.50424,0,0,1,23.5,27H8.5A3.50424,3.50424,0,0,1,5,23.5V8.5A3.50424,3.50424,0,0,1,8.5,5h4.92755l3,3H8.5a.50641.50641,0,0,0-.5.5v15a.50641.50641,0,0,0,.5.5h15a.50641.50641,0,0,0,.5-.5ZM19.81952,8.56372,12.8844,17.75a.49989.49989,0,0,0,.04547.65479l.66534.66528a.49983.49983,0,0,0,.65479.04553l9.18628-6.93518,2.12579,2.12585a.5.5,0,0,0,.84741-.27526l1.48273-9.35108a.50006.50006,0,0,0-.57214-.57214L17.969,5.59058a.5.5,0,0,0-.27526.84741Z\"></path>\n",
       " </svg></a>]"
      ]
     },
     "execution_count": 19,
     "metadata": {},
     "output_type": "execute_result"
    }
   ],
   "source": [
    "movie[1].find_all(\"a\", {\"class\": \"a-link-normal\"})"
   ]
  },
  {
   "cell_type": "code",
   "execution_count": 20,
   "metadata": {},
   "outputs": [
    {
     "data": {
      "text/plain": [
       "<a class=\"a-link-normal\" href=\"/release/rl2500036097/?ref_=bo_yld_table_1\">Top Gun: Maverick</a>"
      ]
     },
     "execution_count": 20,
     "metadata": {},
     "output_type": "execute_result"
    }
   ],
   "source": [
    "movie[1].find_all(\"a\", {\"class\": \"a-link-normal\"})[0]"
   ]
  },
  {
   "cell_type": "code",
   "execution_count": 21,
   "metadata": {},
   "outputs": [
    {
     "data": {
      "text/plain": [
       "<a class=\"a-link-normal\" href=\"https://pro.imdb.com/company/co0023400/boxoffice/?view=releases&amp;ref_=mojo_yld_table_1&amp;rf=mojo_yld_table_1\" rel=\"noopener\" target=\"_blank\">Paramount Pictures<svg class=\"mojo-new-window-svg\" viewbox=\"0 0 32 32\" xmlns=\"http://www.w3.org/2000/svg\">\n",
       "<path d=\"M24,15.57251l3,3V23.5A3.50424,3.50424,0,0,1,23.5,27H8.5A3.50424,3.50424,0,0,1,5,23.5V8.5A3.50424,3.50424,0,0,1,8.5,5h4.92755l3,3H8.5a.50641.50641,0,0,0-.5.5v15a.50641.50641,0,0,0,.5.5h15a.50641.50641,0,0,0,.5-.5ZM19.81952,8.56372,12.8844,17.75a.49989.49989,0,0,0,.04547.65479l.66534.66528a.49983.49983,0,0,0,.65479.04553l9.18628-6.93518,2.12579,2.12585a.5.5,0,0,0,.84741-.27526l1.48273-9.35108a.50006.50006,0,0,0-.57214-.57214L17.969,5.59058a.5.5,0,0,0-.27526.84741Z\"></path>\n",
       "</svg></a>"
      ]
     },
     "execution_count": 21,
     "metadata": {},
     "output_type": "execute_result"
    }
   ],
   "source": [
    "movie[1].find_all(\"a\", {\"class\": \"a-link-normal\"})[1]"
   ]
  },
  {
   "cell_type": "code",
   "execution_count": 23,
   "metadata": {},
   "outputs": [
    {
     "data": {
      "text/plain": [
       "'Paramount Pictures\\n\\n'"
      ]
     },
     "execution_count": 23,
     "metadata": {},
     "output_type": "execute_result"
    }
   ],
   "source": [
    "movie[1].find_all(\"a\", {\"class\": \"a-link-normal\"})[1].text"
   ]
  },
  {
   "cell_type": "code",
   "execution_count": 24,
   "metadata": {},
   "outputs": [
    {
     "data": {
      "text/plain": [
       "['Paramount Pictures', '']"
      ]
     },
     "execution_count": 24,
     "metadata": {},
     "output_type": "execute_result"
    }
   ],
   "source": [
    "movie[1].find_all(\"a\", {\"class\": \"a-link-normal\"})[1].text.split(\"\\n\\n\")"
   ]
  },
  {
   "cell_type": "code",
   "execution_count": 25,
   "metadata": {},
   "outputs": [
    {
     "data": {
      "text/plain": [
       "'Paramount Pictures'"
      ]
     },
     "execution_count": 25,
     "metadata": {},
     "output_type": "execute_result"
    }
   ],
   "source": [
    "movie[1].find_all(\"a\", {\"class\": \"a-link-normal\"})[1].text.split(\"\\n\\n\")[0]"
   ]
  },
  {
   "cell_type": "code",
   "execution_count": null,
   "metadata": {},
   "outputs": [],
   "source": []
  },
  {
   "cell_type": "code",
   "execution_count": 26,
   "metadata": {},
   "outputs": [],
   "source": [
    "movie_title = []\n",
    "movie_gross = []\n",
    "movie_theaters = []\n",
    "movie_date = []\n",
    "movie_distributor = []"
   ]
  },
  {
   "cell_type": "code",
   "execution_count": 27,
   "metadata": {},
   "outputs": [
    {
     "name": "stdout",
     "output_type": "stream",
     "text": [
      "                                           Title         Gross Theaters  \\\n",
      "0                              Top Gun: Maverick  $718,318,561    4,751   \n",
      "1                 Black Panther: Wakanda Forever  $436,499,646    4,396   \n",
      "2    Doctor Strange in the Multiverse of Madness  $411,331,607    4,534   \n",
      "3                       Avatar: The Way of Water  $401,007,908    4,340   \n",
      "4                        Jurassic World Dominion  $376,851,080    4,697   \n",
      "..                                           ...           ...      ...   \n",
      "195                                 King Richard      $408,056    3,302   \n",
      "196                                Superspreader      $399,370      235   \n",
      "197                               The Inspection      $385,627      144   \n",
      "198                                        Alice      $372,529      169   \n",
      "199                        Emergency Declaration      $372,123       42   \n",
      "\n",
      "       Date                          Distributor  \n",
      "0    May 27                   Paramount Pictures  \n",
      "1    Nov 11  Walt Disney Studios Motion Pictures  \n",
      "2     May 6  Walt Disney Studios Motion Pictures  \n",
      "3    Dec 16                 20th Century Studios  \n",
      "4    Jun 10                   Universal Pictures  \n",
      "..      ...                                  ...  \n",
      "195  Nov 19                         Warner Bros.  \n",
      "196  Sep 30                                   NA  \n",
      "197  Nov 18                                  A24  \n",
      "198  Mar 18                 Roadside Attractions  \n",
      "199  Aug 12            Well Go USA Entertainment  \n",
      "\n",
      "[200 rows x 5 columns]\n"
     ]
    }
   ],
   "source": [
    "for item in movie[1:]:\n",
    "    title = item.find(\"a\", {\"class\": \"a-link-normal\"}).text\n",
    "    gross = item.find(\"td\", {\"class\": \"a-text-right mojo-field-type-money mojo-estimatable\"}).text\n",
    "    theaters = item.find(\"td\", {\"class\": \"a-text-right mojo-field-type-positive_integer\"}).text\n",
    "    date = item.find(\"td\", {\"class\": \"a-text-left mojo-field-type-date a-nowrap\"}).text\n",
    "    try:\n",
    "        studio = item.find_all(\"a\", {\"class\": \"a-link-normal\"})[1].text.split(\"\\n\\n\")[0]\n",
    "    except:\n",
    "        studio = \"NA\"\n",
    "    # we use a try and except here because some of the movies do not have a distributor listed\n",
    "\n",
    "    movie_title.append(title)\n",
    "    movie_gross.append(gross)\n",
    "    movie_theaters.append(theaters)\n",
    "    movie_date.append(date)\n",
    "    movie_distributor.append(studio)\n",
    "\n",
    "iter_df = pd.DataFrame({\"Title\": movie_title, \"Gross\": movie_gross, \"Theaters\": movie_theaters, \"Date\": movie_date, \"Distributor\": movie_distributor})\n",
    "print(iter_df)"
   ]
  },
  {
   "cell_type": "code",
   "execution_count": 16,
   "metadata": {},
   "outputs": [],
   "source": [
    "iter_df.to_csv(\"2022_movies.csv\", index=False)"
   ]
  }
 ],
 "metadata": {
  "kernelspec": {
   "display_name": "venv",
   "language": "python",
   "name": "python3"
  },
  "language_info": {
   "codemirror_mode": {
    "name": "ipython",
    "version": 3
   },
   "file_extension": ".py",
   "mimetype": "text/x-python",
   "name": "python",
   "nbconvert_exporter": "python",
   "pygments_lexer": "ipython3",
   "version": "3.10.0"
  }
 },
 "nbformat": 4,
 "nbformat_minor": 2
}
