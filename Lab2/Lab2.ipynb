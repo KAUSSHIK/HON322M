{
 "cells": [
  {
   "cell_type": "code",
   "execution_count": 1,
   "metadata": {},
   "outputs": [],
   "source": [
    "import os\n",
    "import requests\n",
    "import bs4\n",
    "import pandas as pd"
   ]
  },
  {
   "cell_type": "code",
   "execution_count": 2,
   "metadata": {},
   "outputs": [],
   "source": [
    "os.chdir(\"/Users/kausshik/HON322M\")"
   ]
  },
  {
   "cell_type": "code",
   "execution_count": 3,
   "metadata": {},
   "outputs": [],
   "source": [
    "df = 'https://www.boxofficemojo.com/year/2023/?ref_=bo_yl_table_2'\n",
    "\n",
    "page = requests.get(df)\n",
    "\n",
    "bs_obj = bs4.BeautifulSoup(page.content, 'html.parser')"
   ]
  },
  {
   "cell_type": "code",
   "execution_count": 4,
   "metadata": {},
   "outputs": [
    {
     "name": "stdout",
     "output_type": "stream",
     "text": [
      "201\n"
     ]
    }
   ],
   "source": [
    "movie = bs_obj.find_all(\"tr\")\n",
    "\n",
    "print(len(movie))"
   ]
  },
  {
   "cell_type": "markdown",
   "metadata": {},
   "source": [
    "### WHY DO WE HAVE 201 when we only have 200 movies? Lets find out"
   ]
  },
  {
   "cell_type": "code",
   "execution_count": 5,
   "metadata": {},
   "outputs": [
    {
     "name": "stdout",
     "output_type": "stream",
     "text": [
      "<tr><th class=\"a-text-right mojo-field-type-rank mojo-sort-column mojo-sortable-column a-nowrap\"><a class=\"a-link-normal a-nowrap\" href=\"?sort=rank&amp;ref_=bo_yld__resort#table\" title=\"Rank\"><span class=\"a-color-state\">Rank</span><span class=\"a-letter-space\"></span><span class=\"icon aok-relative\"><i class=\"a-icon a-icon-collapse\" role=\"presentation\"></i></span></a></th><th class=\"a-text-left mojo-field-type-release mojo-cell-wide mojo-sortable-column a-nowrap\"><span title=\"Release\">Release</span>\n",
      "</th><th class=\"a-text-left mojo-field-type-genre hidden mojo-sortable-column hidden a-nowrap\"><span title=\"Genre\">Genre</span>\n",
      "</th><th class=\"a-text-right mojo-field-type-money hidden mojo-sortable-column hidden a-nowrap\"><span title=\"Budget\">Budget</span>\n",
      "</th><th class=\"a-text-right mojo-field-type-duration hidden mojo-sortable-column hidden a-nowrap\"><span title=\"Running Time\">Running Time</span>\n",
      "</th><th class=\"a-text-right mojo-field-type-money mojo-sortable-column mojo-estimatable a-nowrap\"><a class=\"a-link-normal a-nowrap\" href=\"?sort=gross&amp;ref_=bo_yld__resort#table\" title=\"Gross\">Gross<span class=\"a-letter-space\"></span><span class=\"icon aok-relative\"><i class=\"a-icon a-icon-expand table-sort-desc-placeholder\" role=\"presentation\"></i><i class=\"a-icon a-icon-collapse table-sort-asc-placeholder\" role=\"presentation\"></i></span></a></th><th class=\"a-text-right mojo-field-type-positive_integer mojo-sortable-column a-nowrap\"><a class=\"a-link-normal a-nowrap\" href=\"?sort=maxNumTheaters&amp;ref_=bo_yld__resort#table\" title=\"Maximum Number of Theaters\">Theaters<span class=\"a-letter-space\"></span><span class=\"icon aok-relative\"><i class=\"a-icon a-icon-expand table-sort-desc-placeholder\" role=\"presentation\"></i><i class=\"a-icon a-icon-collapse table-sort-asc-placeholder\" role=\"presentation\"></i></span></a></th><th class=\"a-text-right mojo-field-type-money mojo-sortable-column mojo-estimatable a-nowrap\"><a class=\"a-link-normal a-nowrap\" href=\"?sort=grossToDate&amp;ref_=bo_yld__resort#table\" title=\"Total Gross\">Total Gross<span class=\"a-letter-space\"></span><span class=\"icon aok-relative\"><i class=\"a-icon a-icon-expand table-sort-desc-placeholder\" role=\"presentation\"></i><i class=\"a-icon a-icon-collapse table-sort-asc-placeholder\" role=\"presentation\"></i></span></a></th><th class=\"a-text-left mojo-field-type-date mojo-sortable-column a-nowrap\"><a class=\"a-link-normal a-nowrap\" href=\"?sort=releaseDate&amp;ref_=bo_yld__resort#table\" title=\"Release Date\">Release Date<span class=\"a-letter-space\"></span><span class=\"icon aok-relative\"><i class=\"a-icon a-icon-expand table-sort-desc-placeholder\" role=\"presentation\"></i><i class=\"a-icon a-icon-collapse table-sort-asc-placeholder\" role=\"presentation\"></i></span></a></th><th class=\"a-text-left mojo-field-type-studio mojo-sortable-column a-nowrap\"><span title=\"Distributor\">Distributor</span>\n",
      "</th><th class=\"a-text-right mojo-field-type-boolean hidden mojo-sortable-column hidden a-nowrap\"><span title=\"Estimated\">Estimated</span>\n",
      "</th></tr>\n"
     ]
    }
   ],
   "source": [
    "print(movie[0]) # header of the table on the website"
   ]
  },
  {
   "cell_type": "code",
   "execution_count": 6,
   "metadata": {},
   "outputs": [
    {
     "name": "stdout",
     "output_type": "stream",
     "text": [
      "<tr><td class=\"a-text-right mojo-header-column mojo-truncate mojo-field-type-rank mojo-sort-column\">200</td><td class=\"a-text-left mojo-field-type-release mojo-cell-wide\"><a class=\"a-link-normal\" href=\"/release/rl132023041/?ref_=bo_yld_table_200\">Inside</a></td><td class=\"a-text-left mojo-field-type-genre hidden\">-</td><td class=\"a-text-right mojo-field-type-money hidden\">-</td><td class=\"a-text-right mojo-field-type-duration hidden\">-</td><td class=\"a-text-right mojo-field-type-money mojo-estimatable\">$918,415</td><td class=\"a-text-right mojo-field-type-positive_integer\">357</td><td class=\"a-text-right mojo-field-type-money mojo-estimatable\">$918,415</td><td class=\"a-text-left mojo-field-type-date a-nowrap\">Mar 17</td><td class=\"a-text-left mojo-field-type-studio\"><a class=\"a-link-normal\" href=\"https://pro.imdb.com/company/co0042399/boxoffice/?view=releases&amp;ref_=mojo_yld_table_200&amp;rf=mojo_yld_table_200\" rel=\"noopener\" target=\"_blank\">Focus Features<svg class=\"mojo-new-window-svg\" viewbox=\"0 0 32 32\" xmlns=\"http://www.w3.org/2000/svg\">\n",
      "<path d=\"M24,15.57251l3,3V23.5A3.50424,3.50424,0,0,1,23.5,27H8.5A3.50424,3.50424,0,0,1,5,23.5V8.5A3.50424,3.50424,0,0,1,8.5,5h4.92755l3,3H8.5a.50641.50641,0,0,0-.5.5v15a.50641.50641,0,0,0,.5.5h15a.50641.50641,0,0,0,.5-.5ZM19.81952,8.56372,12.8844,17.75a.49989.49989,0,0,0,.04547.65479l.66534.66528a.49983.49983,0,0,0,.65479.04553l9.18628-6.93518,2.12579,2.12585a.5.5,0,0,0,.84741-.27526l1.48273-9.35108a.50006.50006,0,0,0-.57214-.57214L17.969,5.59058a.5.5,0,0,0-.27526.84741Z\"></path>\n",
      "</svg></a></td><td class=\"a-text-right mojo-field-type-boolean hidden\">false</td></tr>\n",
      "<tr><td class=\"a-text-right mojo-header-column mojo-truncate mojo-field-type-rank mojo-sort-column\">1</td><td class=\"a-text-left mojo-field-type-release mojo-cell-wide\"><a class=\"a-link-normal\" href=\"/release/rl1077904129/?ref_=bo_yld_table_1\">Barbie</a></td><td class=\"a-text-left mojo-field-type-genre hidden\">-</td><td class=\"a-text-right mojo-field-type-money hidden\">-</td><td class=\"a-text-right mojo-field-type-duration hidden\">-</td><td class=\"a-text-right mojo-field-type-money mojo-estimatable\">$636,225,983</td><td class=\"a-text-right mojo-field-type-positive_integer\">4,337</td><td class=\"a-text-right mojo-field-type-money mojo-estimatable\">$636,238,421</td><td class=\"a-text-left mojo-field-type-date a-nowrap\">Jul 21</td><td class=\"a-text-left mojo-field-type-studio\"><a class=\"a-link-normal\" href=\"https://pro.imdb.com/company/co0002663/boxoffice/?view=releases&amp;ref_=mojo_yld_table_1&amp;rf=mojo_yld_table_1\" rel=\"noopener\" target=\"_blank\">Warner Bros.<svg class=\"mojo-new-window-svg\" viewbox=\"0 0 32 32\" xmlns=\"http://www.w3.org/2000/svg\">\n",
      "<path d=\"M24,15.57251l3,3V23.5A3.50424,3.50424,0,0,1,23.5,27H8.5A3.50424,3.50424,0,0,1,5,23.5V8.5A3.50424,3.50424,0,0,1,8.5,5h4.92755l3,3H8.5a.50641.50641,0,0,0-.5.5v15a.50641.50641,0,0,0,.5.5h15a.50641.50641,0,0,0,.5-.5ZM19.81952,8.56372,12.8844,17.75a.49989.49989,0,0,0,.04547.65479l.66534.66528a.49983.49983,0,0,0,.65479.04553l9.18628-6.93518,2.12579,2.12585a.5.5,0,0,0,.84741-.27526l1.48273-9.35108a.50006.50006,0,0,0-.57214-.57214L17.969,5.59058a.5.5,0,0,0-.27526.84741Z\"></path>\n",
      "</svg></a></td><td class=\"a-text-right mojo-field-type-boolean hidden\">false</td></tr>\n"
     ]
    }
   ],
   "source": [
    "print(movie[200])\n",
    "\n",
    "print(movie[1])"
   ]
  },
  {
   "cell_type": "code",
   "execution_count": 8,
   "metadata": {},
   "outputs": [
    {
     "name": "stdout",
     "output_type": "stream",
     "text": [
      "Barbie\n"
     ]
    }
   ],
   "source": [
    "title = movie[1].find(\"a\", {\"class\": \"a-link-normal\"}).text\n",
    "print(title)"
   ]
  },
  {
   "cell_type": "code",
   "execution_count": 11,
   "metadata": {},
   "outputs": [
    {
     "name": "stdout",
     "output_type": "stream",
     "text": [
      "$636,225,983\n"
     ]
    }
   ],
   "source": [
    "gross = movie[1].find(\"td\", {\"class\": \"a-text-right mojo-field-type-money mojo-estimatable\"}).text\n",
    "print(gross)"
   ]
  },
  {
   "cell_type": "code",
   "execution_count": 13,
   "metadata": {},
   "outputs": [
    {
     "name": "stdout",
     "output_type": "stream",
     "text": [
      "['Barbie']\n",
      "['$636,225,983']\n"
     ]
    }
   ],
   "source": [
    "movie_title = []\n",
    "movie_gross = []\n",
    "\n",
    "movie_title.append(title)\n",
    "movie_gross.append(gross)\n",
    "\n",
    "print(movie_title)\n",
    "print(movie_gross)"
   ]
  },
  {
   "cell_type": "code",
   "execution_count": 14,
   "metadata": {},
   "outputs": [
    {
     "name": "stdout",
     "output_type": "stream",
     "text": [
      "    Title         Gross\n",
      "0  Barbie  $636,225,983\n"
     ]
    }
   ],
   "source": [
    "iter_df = pd.DataFrame({\"Title\": movie_title, \"Gross\": movie_gross})\n",
    "print(iter_df)"
   ]
  },
  {
   "cell_type": "code",
   "execution_count": 21,
   "metadata": {},
   "outputs": [
    {
     "name": "stdout",
     "output_type": "stream",
     "text": [
      "                                   Title         Gross\n",
      "0                                 Barbie  $636,225,983\n",
      "1            The Super Mario Bros. Movie  $574,934,330\n",
      "2    Spider-Man: Across the Spider-Verse  $381,311,319\n",
      "3         Guardians of the Galaxy Vol. 3  $358,995,815\n",
      "4                            Oppenheimer  $326,101,370\n",
      "..                                   ...           ...\n",
      "195                                Emily    $1,097,067\n",
      "196                Knights of the Zodiac    $1,090,155\n",
      "197                               Broker    $1,001,892\n",
      "198                           Showing Up      $972,074\n",
      "199                               Inside      $918,415\n",
      "\n",
      "[200 rows x 2 columns]\n"
     ]
    }
   ],
   "source": [
    "movie_title = []\n",
    "movie_gross = []\n",
    "\n",
    "for item in movie[1:201]:\n",
    "    title = item.find(\"a\", {\"class\": \"a-link-normal\"}).text\n",
    "    gross = item.find(\"td\", {\"class\": \"a-text-right mojo-field-type-money mojo-estimatable\"}).text\n",
    "\n",
    "    movie_title.append(title)\n",
    "    movie_gross.append(gross)\n",
    "\n",
    "iter_df = pd.DataFrame({\"Title\": movie_title, \"Gross\": movie_gross})\n",
    "print(iter_df)"
   ]
  },
  {
   "cell_type": "code",
   "execution_count": 17,
   "metadata": {},
   "outputs": [
    {
     "name": "stdout",
     "output_type": "stream",
     "text": [
      "                                   Title         Gross\n",
      "0                                 Barbie  $636,225,983\n",
      "1                                 Barbie  $636,225,983\n",
      "2            The Super Mario Bros. Movie  $574,934,330\n",
      "3    Spider-Man: Across the Spider-Verse  $381,311,319\n",
      "4         Guardians of the Galaxy Vol. 3  $358,995,815\n",
      "..                                   ...           ...\n",
      "196                                Emily    $1,097,067\n",
      "197                Knights of the Zodiac    $1,090,155\n",
      "198                               Broker    $1,001,892\n",
      "199                           Showing Up      $972,074\n",
      "200                               Inside      $918,415\n",
      "\n",
      "[201 rows x 2 columns]\n"
     ]
    }
   ],
   "source": [
    "iter_df = pd.DataFrame({\"Title\": movie_title, \"Gross\": movie_gross})\n",
    "print(iter_df)"
   ]
  }
 ],
 "metadata": {
  "kernelspec": {
   "display_name": "venv",
   "language": "python",
   "name": "python3"
  },
  "language_info": {
   "codemirror_mode": {
    "name": "ipython",
    "version": 3
   },
   "file_extension": ".py",
   "mimetype": "text/x-python",
   "name": "python",
   "nbconvert_exporter": "python",
   "pygments_lexer": "ipython3",
   "version": "3.10.0"
  }
 },
 "nbformat": 4,
 "nbformat_minor": 2
}
