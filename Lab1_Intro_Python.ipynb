{
 "cells": [
  {
   "cell_type": "markdown",
   "metadata": {},
   "source": [
    "# Introduction to Python"
   ]
  },
  {
   "cell_type": "markdown",
   "metadata": {},
   "source": [
    "\n",
    "Python is a programming language. Like our human languages that we use to communicate with each other, Python programming language is a way for us to comminicate with computers. Python allows us to ask the computer to perform tasks and solve problems through coding.\n",
    "\n",
    "Let's try the first command, print(). This function displays the result. \n",
    "\n",
    "Example:\n",
    "```python\n",
    "print(\"Hello, World!\")\n",
    "```\n"
   ]
  },
  {
   "cell_type": "code",
   "execution_count": null,
   "metadata": {},
   "outputs": [],
   "source": [
    "# Type the example code provided above into this cell and then run the cell\n",
    "\n",
    "### Your code here:\n",
    "\n",
    "\n",
    "\n",
    "### End of your code"
   ]
  },
  {
   "cell_type": "markdown",
   "metadata": {},
   "source": [
    "## Variables\n",
    "In Python, variables are created when you assign a value to it. Using ```=``` sign to assign a variable.\n",
    "\n",
    "Example:\n",
    "```python\n",
    "x = 1\n",
    "y = \"Hello, World!\"\n",
    "print(x)\n",
    "print(y)\n",
    "```"
   ]
  },
  {
   "cell_type": "code",
   "execution_count": null,
   "metadata": {},
   "outputs": [],
   "source": [
    "# Type the example code provided above into this cell and then run the cell\n",
    "\n",
    "### Your code here:\n",
    "\n",
    "\n",
    "\n",
    "### End of your code"
   ]
  },
  {
   "cell_type": "markdown",
   "metadata": {},
   "source": [
    "## Comments\n",
    "Python has commenting capability for the purpose of in-code documentation.\n",
    "Comments start with a #. The comments do not influence the code result. \n",
    "\n",
    "\n",
    "```python \n",
    "Without comment:\n",
    "\n",
    "print(\"Hello, World!\")\n",
    "```\n",
    "\n",
    "\n",
    "\n",
    "```python\n",
    "With comment:\n",
    "\n",
    "# this is a comment.\n",
    "print(\"Hello, World!\")\n",
    "```"
   ]
  },
  {
   "cell_type": "code",
   "execution_count": null,
   "metadata": {},
   "outputs": [],
   "source": [
    "# Type the example code provided above into this cell and then run the cell\n",
    "\n",
    "### Your code here:\n",
    "\n",
    "\n",
    "\n",
    "### End of your code"
   ]
  },
  {
   "cell_type": "markdown",
   "metadata": {},
   "source": [
    "## Strings  \n",
    "In Python a string, or ```str```, is either surrounded by double quotes ```(\"Hello world\")``` or single quotes ```('Hello world')```. It doesn't matter which one you use.\n"
   ]
  },
  {
   "cell_type": "code",
   "execution_count": null,
   "metadata": {},
   "outputs": [],
   "source": [
    "# Print your name using the print()command by replacing \"Hello word\" with your name.\n",
    "\n",
    "### Your code here:\n",
    "my_name = \n",
    "\n",
    "print(my_name)\n",
    "### End of your code"
   ]
  },
  {
   "cell_type": "markdown",
   "metadata": {},
   "source": [
    "## Numbers\n",
    "Python has a few numeric data types. \n",
    "\n",
    "An **integer**, or ```int```\n",
    "\n",
    "A **floating-point number**, or a ```float```, is a decimal number.   \n",
    "\n",
    "\n",
    "Example:\n",
    "```python\n",
    "an_int = 2 \n",
    "a_float = 3.5 \n",
    "print(an_int + a_float) # prints 5.5\n",
    "```\n"
   ]
  },
  {
   "cell_type": "code",
   "execution_count": null,
   "metadata": {},
   "outputs": [],
   "source": [
    "# Type the example code provided above into this cell and then run the cell\n",
    "\n",
    "### Your code here:\n",
    "\n",
    "\n",
    "\n",
    "### End of your code"
   ]
  },
  {
   "cell_type": "markdown",
   "metadata": {},
   "source": [
    "## Calculations  \n",
    "Operators are used to perform operations on variables and values.\n",
    "Python performs addition, subtraction, multiplication, and division with `+`, `-`, `*`, and `/`.\n",
    "\n",
    "Examples:\n",
    "```python\n",
    "# addition\n",
    "print(10+6) \n",
    "\n",
    "# subtraction\n",
    "print(10-5)\n",
    "\n",
    "# multiplication\n",
    "print(25 * 2) \n",
    "\n",
    "# division\n",
    "print(10 / 5)\n",
    "```\n"
   ]
  },
  {
   "cell_type": "code",
   "execution_count": null,
   "metadata": {},
   "outputs": [],
   "source": [
    "# Type the example code provided above into this cell and then run the cell\n",
    "\n",
    "### Your code here:\n",
    "\n",
    "\n",
    "\n",
    "### End of your code"
   ]
  },
  {
   "cell_type": "markdown",
   "metadata": {},
   "source": [
    "## Concatenation\n",
    "The `+` operator doesn't just add two numbers, it can also \"add\" two strings! \n",
    "```python\n",
    "first_name = \"Jerry\"\n",
    "last_name = \"Jin\"\n",
    "full_name = first_name + \" \" + last_name\n",
    "\n",
    "print(full_name)\n",
    "```\n"
   ]
  },
  {
   "cell_type": "code",
   "execution_count": null,
   "metadata": {},
   "outputs": [],
   "source": [
    "# Follow the example above: Enter your first and last name and concatenate them\n",
    "\n",
    "### Your code here:\n",
    "first_name = \n",
    "last_name = \n",
    "full_name = first_name + \" \" + last_name\n",
    "\n",
    "print(full_name)\n",
    "### End of your code"
   ]
  },
  {
   "cell_type": "markdown",
   "metadata": {},
   "source": [
    "## List\n",
    "\n",
    "Lists are one of 4 built-in data types in Python used to store collections of data, the other 3 are Tuple, Set, and Dictionary, all with different qualities and usage.\n",
    "\n",
    "List is a ordered, changeable and allows duplicate members.\n",
    "\n",
    "\n",
    "Lists are created using square brackets```[]```. \n",
    "\n",
    "Example:\n",
    "```python\n",
    "fruits = [\"apple\", \"banana\", \"cherry\"]\n",
    "print(fruits)\n",
    "```"
   ]
  },
  {
   "cell_type": "code",
   "execution_count": null,
   "metadata": {},
   "outputs": [],
   "source": [
    "# Type the example code provided above into this cell and then run the cell\n",
    "\n",
    "### Your code here:\n",
    "\n",
    "\n",
    "\n",
    "### End of your code"
   ]
  },
  {
   "cell_type": "markdown",
   "metadata": {},
   "source": [
    "### Access List Items\n",
    "List items are indexed and you can access them by referring to the index number:\n",
    "\n",
    "Example:\n",
    "\n",
    "Print the second item of the list.\n",
    "\n",
    "```python\n",
    "fruits = [\"apple\", \"banana\", \"cherry\"]\n",
    "print(fruits[1])\n",
    "```\n",
    "Note: the index in python starts from 0 not 1. If you want to select the first item of the list, you can use ```fruits[0]```."
   ]
  },
  {
   "cell_type": "code",
   "execution_count": null,
   "metadata": {},
   "outputs": [],
   "source": [
    "# Type the example code provided above into this cell and then run the cell\n",
    "\n",
    "### Your code here:\n",
    "\n",
    "\n",
    "\n",
    "### End of your code\n",
    "\n",
    "\n",
    "\n",
    "\n",
    "# Print the first item of the list \n",
    "\n",
    "### Your code here:\n",
    "\n",
    "\n",
    "\n",
    "### End of your code\n"
   ]
  },
  {
   "cell_type": "markdown",
   "metadata": {},
   "source": [
    "### List Length\n",
    "To determine how many items a list has, use the ```len()``` function:\n",
    "Example:\n",
    "```python\n",
    "fruits = [\"apple\", \"banana\", \"cherry\"]\n",
    "print(len(fruits))\n",
    "```\n",
    "\n"
   ]
  },
  {
   "cell_type": "code",
   "execution_count": null,
   "metadata": {},
   "outputs": [],
   "source": [
    "# Type the example code provided above into this cell and then run the cell\n",
    "\n",
    "### Your code here:\n",
    "\n",
    "\n",
    "\n",
    "### End of your code"
   ]
  },
  {
   "cell_type": "markdown",
   "metadata": {},
   "source": [
    "## Range\n",
    "`range` function can creates a list of numbers starting at `0`. If we call `range` with two arguments, we can create a list that starts at a different number. \n",
    "\n",
    "Example:\n",
    "```python \n",
    "my_list = range(10)\n",
    "print(list(my_list))\n",
    "```\n",
    "\n",
    "```python\n",
    "my_range2 = range(2, 10)\n",
    "print(list(my_range2))\n",
    "```\n"
   ]
  },
  {
   "cell_type": "code",
   "execution_count": null,
   "metadata": {},
   "outputs": [],
   "source": [
    "# Type the example code provided above into this cell and then run the cell\n",
    "\n",
    "### Your code here:\n",
    "\n",
    "\n",
    "\n",
    "### End of your code"
   ]
  },
  {
   "cell_type": "markdown",
   "metadata": {},
   "source": [
    "### Add List Items\n",
    "To add an item to the end of the list, use the ```append()``` method:\n",
    "\n",
    "Example:\n",
    "\n",
    "```python\n",
    "fruits = [\"apple\", \"banana\", \"cherry\"]\n",
    "fruits.append(\"orange\")\n",
    "print(fruits)\n",
    "print(len(fruits))\n",
    "```"
   ]
  },
  {
   "cell_type": "code",
   "execution_count": null,
   "metadata": {},
   "outputs": [],
   "source": [
    "# Type the example code provided above into this cell and then run the cell\n",
    "\n",
    "### Your code here:\n",
    "\n",
    "\n",
    "\n",
    "### End of your code"
   ]
  },
  {
   "cell_type": "markdown",
   "metadata": {},
   "source": [
    "## ```for``` loop through a list\n",
    "\n",
    "You can loop through the list items by using a for loop:\n",
    "\n",
    "Example:\n",
    "\n",
    "```python\n",
    "fruits = [\"apple\", \"banana\", \"cherry\"]\n",
    "for i in fruits:\n",
    "  print(i)\n",
    "```\n"
   ]
  },
  {
   "cell_type": "code",
   "execution_count": null,
   "metadata": {},
   "outputs": [],
   "source": [
    "# Type the example code provided above into this cell and then run the cell\n",
    "\n",
    "### Your code here:\n",
    "\n",
    "\n",
    "\n",
    "### End of your code"
   ]
  },
  {
   "cell_type": "markdown",
   "metadata": {},
   "source": [
    "## If ... Else\n",
    "\n",
    "Python Conditions and If Statements\n",
    "\n",
    "Python supports the usual logical conditions from mathematics:\n",
    "\n",
    "1. Equals: ```a == b```\n",
    "2. Not Equals: ```a != b```\n",
    "3. Less than: ```a < b```\n",
    "4. Less than or equal to: ```a <= b```\n",
    "5. Greater than: ```a > b```\n",
    "6. Greater than or equal to: ```a >= b```\n",
    "\n",
    "These conditions can be used in several ways, most commonly in \"if statements\" and loops.\n",
    "\n",
    "\n",
    "Examples:\n",
    "1) if:\n",
    "```python\n",
    "a = 33\n",
    "b = 200\n",
    "if b > a:\n",
    "    print(\"b is greater than a\")\n",
    "```\n",
    "\n",
    "2) if ... else:\n",
    "```python\n",
    "a = 55\n",
    "b = 10\n",
    "if b > a:\n",
    "    print(\"b is greater than a\")\n",
    "else:\n",
    "    print(\"b is not greater than a\")\n",
    "```\n",
    "\n"
   ]
  },
  {
   "cell_type": "code",
   "execution_count": null,
   "metadata": {},
   "outputs": [],
   "source": [
    "# Type the first example code provided above into this cell and then run the cell\n",
    "\n",
    "### Your code here:\n",
    "\n",
    "\n",
    "\n",
    "### End of your code"
   ]
  },
  {
   "cell_type": "code",
   "execution_count": null,
   "metadata": {},
   "outputs": [],
   "source": [
    "# Type the second example code provided above into this cell and then run the cell\n",
    "\n",
    "### Your code here:\n",
    "\n",
    "\n",
    "\n",
    "### End of your code"
   ]
  },
  {
   "cell_type": "markdown",
   "metadata": {},
   "source": [
    "## Dictionary\n",
    "Dictionaries are used to store data values in key:value pairs.\n",
    "\n",
    "A dictionary is a collection which is ordered, changeable and do not allow duplicates.\n",
    "\n",
    "Example:\n",
    "```python\n",
    "car = {\n",
    "  \"brand\": \"Ford\",\n",
    "  \"model\": \"Mustang\",\n",
    "  \"year\": 1964\n",
    "}\n",
    "print(car)\n",
    "```\n"
   ]
  },
  {
   "cell_type": "code",
   "execution_count": null,
   "metadata": {},
   "outputs": [],
   "source": [
    "# Type the example code provided above into this cell and then run the cell\n",
    "\n",
    "### Your code here:\n",
    "\n",
    "\n",
    "\n",
    "### End of your code"
   ]
  },
  {
   "cell_type": "markdown",
   "metadata": {},
   "source": [
    "You can also print the \"brand\" value of the dictionary:\n",
    "\n",
    "Example:\n",
    "```python\n",
    "car = {\n",
    "  \"brand\": \"Ford\",\n",
    "  \"model\": \"Mustang\",\n",
    "  \"year\": 1964\n",
    "}\n",
    "\n",
    "print(car[\"brand\"])\n",
    "```"
   ]
  },
  {
   "cell_type": "code",
   "execution_count": null,
   "metadata": {},
   "outputs": [],
   "source": [
    "# Type the example code provided above into this cell and then run the cell\n",
    "\n",
    "### Your code here:\n",
    "\n",
    "\n",
    "\n",
    "### End of your code"
   ]
  }
 ],
 "metadata": {
  "kernelspec": {
   "display_name": "Python 3 (ipykernel)",
   "language": "python",
   "name": "python3"
  },
  "language_info": {
   "codemirror_mode": {
    "name": "ipython",
    "version": 3
   },
   "file_extension": ".py",
   "mimetype": "text/x-python",
   "name": "python",
   "nbconvert_exporter": "python",
   "pygments_lexer": "ipython3",
   "version": "3.9.18"
  }
 },
 "nbformat": 4,
 "nbformat_minor": 2
}
