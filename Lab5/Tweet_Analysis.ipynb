{
 "cells": [
  {
   "cell_type": "code",
   "execution_count": 1,
   "id": "362f8cea",
   "metadata": {},
   "outputs": [],
   "source": [
    "import os\n",
    "import pandas as pd\n",
    "import numpy as np\n",
    "from sklearn.model_selection import train_test_split\n",
    "from sklearn.naive_bayes import MultinomialNB\n",
    "from sklearn.feature_extraction.text import CountVectorizer\n",
    "from sklearn.metrics import confusion_matrix, classification_report\n",
    "import matplotlib.pyplot as plt\n",
    "import seaborn as sns\n",
    "%matplotlib inline\n",
    "\n"
   ]
  },
  {
   "cell_type": "code",
   "execution_count": 2,
   "id": "5ec3940d",
   "metadata": {},
   "outputs": [],
   "source": [
    "os.chdir(\"/Users/kausshik/HON322M/Lab5\")"
   ]
  },
  {
   "cell_type": "markdown",
   "id": "da1fe350",
   "metadata": {},
   "source": [
    "# Understand data "
   ]
  },
  {
   "cell_type": "code",
   "execution_count": 3,
   "id": "d8fd3054",
   "metadata": {},
   "outputs": [],
   "source": [
    "data = pd.read_csv('tweets_sentiment.csv')"
   ]
  },
  {
   "cell_type": "code",
   "execution_count": 4,
   "id": "96ca4ee6",
   "metadata": {},
   "outputs": [
    {
     "data": {
      "text/html": [
       "<div>\n",
       "<style scoped>\n",
       "    .dataframe tbody tr th:only-of-type {\n",
       "        vertical-align: middle;\n",
       "    }\n",
       "\n",
       "    .dataframe tbody tr th {\n",
       "        vertical-align: top;\n",
       "    }\n",
       "\n",
       "    .dataframe thead th {\n",
       "        text-align: right;\n",
       "    }\n",
       "</style>\n",
       "<table border=\"1\" class=\"dataframe\">\n",
       "  <thead>\n",
       "    <tr style=\"text-align: right;\">\n",
       "      <th></th>\n",
       "      <th>Unnamed: 0</th>\n",
       "      <th>tweets</th>\n",
       "      <th>sentiment</th>\n",
       "    </tr>\n",
       "  </thead>\n",
       "  <tbody>\n",
       "    <tr>\n",
       "      <th>0</th>\n",
       "      <td>0</td>\n",
       "      <td>#FollowFriday @France_Inte @PKuchly57 @Milipol...</td>\n",
       "      <td>1</td>\n",
       "    </tr>\n",
       "    <tr>\n",
       "      <th>1</th>\n",
       "      <td>1</td>\n",
       "      <td>@Lamb2ja Hey James! How odd :/ Please call our...</td>\n",
       "      <td>1</td>\n",
       "    </tr>\n",
       "    <tr>\n",
       "      <th>2</th>\n",
       "      <td>2</td>\n",
       "      <td>@DespiteOfficial we had a listen last night :)...</td>\n",
       "      <td>1</td>\n",
       "    </tr>\n",
       "    <tr>\n",
       "      <th>3</th>\n",
       "      <td>3</td>\n",
       "      <td>@97sides CONGRATS :)</td>\n",
       "      <td>1</td>\n",
       "    </tr>\n",
       "    <tr>\n",
       "      <th>4</th>\n",
       "      <td>4</td>\n",
       "      <td>yeaaaah yippppy!!!  my accnt verified rqst has...</td>\n",
       "      <td>1</td>\n",
       "    </tr>\n",
       "    <tr>\n",
       "      <th>...</th>\n",
       "      <td>...</td>\n",
       "      <td>...</td>\n",
       "      <td>...</td>\n",
       "    </tr>\n",
       "    <tr>\n",
       "      <th>9995</th>\n",
       "      <td>9995</td>\n",
       "      <td>I wanna change my avi but uSanele :(</td>\n",
       "      <td>0</td>\n",
       "    </tr>\n",
       "    <tr>\n",
       "      <th>9996</th>\n",
       "      <td>9996</td>\n",
       "      <td>MY PUPPY BROKE HER FOOT :(</td>\n",
       "      <td>0</td>\n",
       "    </tr>\n",
       "    <tr>\n",
       "      <th>9997</th>\n",
       "      <td>9997</td>\n",
       "      <td>where's all the jaebum baby pictures :((</td>\n",
       "      <td>0</td>\n",
       "    </tr>\n",
       "    <tr>\n",
       "      <th>9998</th>\n",
       "      <td>9998</td>\n",
       "      <td>But but Mr Ahmad Maslan cooks too :( https://t...</td>\n",
       "      <td>0</td>\n",
       "    </tr>\n",
       "    <tr>\n",
       "      <th>9999</th>\n",
       "      <td>9999</td>\n",
       "      <td>@eawoman As a Hull supporter I am expecting a ...</td>\n",
       "      <td>0</td>\n",
       "    </tr>\n",
       "  </tbody>\n",
       "</table>\n",
       "<p>10000 rows × 3 columns</p>\n",
       "</div>"
      ],
      "text/plain": [
       "      Unnamed: 0                                             tweets  sentiment\n",
       "0              0  #FollowFriday @France_Inte @PKuchly57 @Milipol...          1\n",
       "1              1  @Lamb2ja Hey James! How odd :/ Please call our...          1\n",
       "2              2  @DespiteOfficial we had a listen last night :)...          1\n",
       "3              3                               @97sides CONGRATS :)          1\n",
       "4              4  yeaaaah yippppy!!!  my accnt verified rqst has...          1\n",
       "...          ...                                                ...        ...\n",
       "9995        9995               I wanna change my avi but uSanele :(          0\n",
       "9996        9996                         MY PUPPY BROKE HER FOOT :(          0\n",
       "9997        9997           where's all the jaebum baby pictures :((          0\n",
       "9998        9998  But but Mr Ahmad Maslan cooks too :( https://t...          0\n",
       "9999        9999  @eawoman As a Hull supporter I am expecting a ...          0\n",
       "\n",
       "[10000 rows x 3 columns]"
      ]
     },
     "execution_count": 4,
     "metadata": {},
     "output_type": "execute_result"
    }
   ],
   "source": [
    "data"
   ]
  },
  {
   "cell_type": "code",
   "execution_count": 8,
   "id": "079859f2",
   "metadata": {},
   "outputs": [
    {
     "name": "stdout",
     "output_type": "stream",
     "text": [
      "Happy tweet sample:\n",
      "#HappyBirthdayEmilyBett @emilybett :) Wishing you all the best you beautiful,sweet,talented,amazing… https://t.co/humtC1tr3I\n",
      "====================================================================================================\n",
      "Sad tweet sample:\n",
      "as if not an apology isn't available in australia :(( @BeaMiller\n"
     ]
    }
   ],
   "source": [
    "# Randomly select one spam email\n",
    "happy_sample = data[data['sentiment'] == 1].sample(n=1)\n",
    "\n",
    "# Randomly select one not spam email\n",
    "sad_sample = data[data['sentiment'] == 0].sample(n=1)\n",
    "\n",
    "# Print the samples\n",
    "print(\"Happy tweet sample:\")\n",
    "print(happy_sample['tweets'].values[0])\n",
    "print(\"=\" * 100)\n",
    "print(\"Sad tweet sample:\")\n",
    "print(sad_sample['tweets'].values[0])\n"
   ]
  },
  {
   "cell_type": "code",
   "execution_count": 9,
   "id": "41439b76",
   "metadata": {},
   "outputs": [
    {
     "data": {
      "text/plain": [
       "tweets\n",
       "#FollowFriday @France_Inte @PKuchly57 @Milipol_Paris for being top engaged members in my community this week :)                             1\n",
       "&lt;3 &lt;3 awsme song &lt;3 :-* :-( :-( :'( http://t.co/IjVWwO32eO                                                                         1\n",
       "sunggyu at the back :( i wonder if he's okay :( https://t.co/MwLo6RSyHW                                                                     1\n",
       "@nwoje I'm in London in the rain :( but was booking one! Hope you didn't have to hear horrible grumbling about \"migrant activity\" #gross    1\n",
       "@madjade24 @bocababy26 :C you don't know? :C daddy doesn't know? &gt;:(                                                                     1\n",
       "                                                                                                                                           ..\n",
       "@NoakseyV1 @david_statter @DHGFMadson @saikocat @HIDEO_KOJIMA_EN @drewdixon82 @ghrowe Cheers! :)                                            1\n",
       "@cyrenity I know he is, only saying what I know :)                                                                                          1\n",
       "@hclcampbell Amazing! Glad to hear we could make your Friday morning a little better :-) ^KS                                                1\n",
       "So @gwatsky had a fantastic show! And I already want to buy tickets to another concert.:D                                                   1\n",
       "@eawoman As a Hull supporter I am expecting a misserable few weeks :-(                                                                      1\n",
       "Name: count, Length: 10000, dtype: int64"
      ]
     },
     "execution_count": 9,
     "metadata": {},
     "output_type": "execute_result"
    }
   ],
   "source": [
    "data['tweets'].value_counts()"
   ]
  },
  {
   "cell_type": "markdown",
   "id": "b6947811",
   "metadata": {},
   "source": [
    "# Data pre-processing"
   ]
  },
  {
   "cell_type": "markdown",
   "id": "234e8cb8",
   "metadata": {},
   "source": [
    "## Split data"
   ]
  },
  {
   "cell_type": "code",
   "execution_count": 10,
   "id": "e8a1610c",
   "metadata": {},
   "outputs": [],
   "source": [
    "X = list(data['tweets'])"
   ]
  },
  {
   "cell_type": "code",
   "execution_count": 11,
   "id": "4bb44eb9",
   "metadata": {},
   "outputs": [],
   "source": [
    "y = list(data['sentiment'])"
   ]
  },
  {
   "cell_type": "code",
   "execution_count": 12,
   "id": "3ed6d705",
   "metadata": {},
   "outputs": [],
   "source": [
    "X_train, X_test, y_train, y_test = train_test_split(X, y, \n",
    "                                                    test_size = 0.30, \n",
    "                                                    random_state = 369,    # produce the same split when run the code multiple times\n",
    "                                                    stratify = y)    # have same percentage of samples of each target class; e.g., 28% for test for each class"
   ]
  },
  {
   "cell_type": "code",
   "execution_count": 13,
   "id": "b2974248",
   "metadata": {},
   "outputs": [
    {
     "data": {
      "text/plain": [
       "1    3500\n",
       "0    3500\n",
       "Name: count, dtype: int64"
      ]
     },
     "execution_count": 13,
     "metadata": {},
     "output_type": "execute_result"
    }
   ],
   "source": [
    "pd.Series(y_train).value_counts()"
   ]
  },
  {
   "cell_type": "code",
   "execution_count": 14,
   "id": "b9b353c6",
   "metadata": {
    "scrolled": true
   },
   "outputs": [
    {
     "data": {
      "text/plain": [
       "0    1500\n",
       "1    1500\n",
       "Name: count, dtype: int64"
      ]
     },
     "execution_count": 14,
     "metadata": {},
     "output_type": "execute_result"
    }
   ],
   "source": [
    "pd.Series(y_test).value_counts()"
   ]
  },
  {
   "cell_type": "code",
   "execution_count": 15,
   "id": "abf6f228",
   "metadata": {},
   "outputs": [],
   "source": [
    "# Add Lemmatization by extending CountVectorizer\n",
    "from nltk.stem import WordNetLemmatizer\n",
    "\n",
    "lemm = WordNetLemmatizer()\n",
    "class LemmaCountVectorizer(CountVectorizer):\n",
    "    def build_analyzer(self):\n",
    "        analyzer = super(LemmaCountVectorizer, self).build_analyzer()\n",
    "        return lambda doc: (lemm.lemmatize(w) for w in analyzer(doc))"
   ]
  },
  {
   "cell_type": "code",
   "execution_count": 16,
   "id": "5600201c",
   "metadata": {},
   "outputs": [],
   "source": [
    "# use LemmaCountVectorizer to perform tokenization, lowercasing, stopwords removing, and lemmatization\n",
    "Lema_cv = LemmaCountVectorizer(stop_words = 'english')      \n",
    "Lema_cv_feature_word_train = Lema_cv.fit_transform(X_train).toarray()\n",
    "Lema_cv_feature_word_test = Lema_cv.transform(X_test).toarray()"
   ]
  },
  {
   "cell_type": "code",
   "execution_count": 17,
   "id": "91153f57",
   "metadata": {},
   "outputs": [
    {
     "data": {
      "text/plain": [
       "(7000, 14987)"
      ]
     },
     "execution_count": 17,
     "metadata": {},
     "output_type": "execute_result"
    }
   ],
   "source": [
    "Lema_cv_feature_word_train.shape"
   ]
  },
  {
   "cell_type": "markdown",
   "id": "0645693e",
   "metadata": {},
   "source": [
    "## Model Training - Naive Bayes"
   ]
  },
  {
   "cell_type": "code",
   "execution_count": 18,
   "id": "6312ca61",
   "metadata": {},
   "outputs": [],
   "source": [
    "# Instantiate a Multinomial Naive Bayes classifier\n",
    "mnb = MultinomialNB()\n",
    "\n",
    "# Fit the Multinomial Naive Bayes classifier to the training data.\n",
    "mnb.fit(Lema_cv_feature_word_train, y_train)\n",
    "\n",
    "# Use the trained classifier to predict the labels for the test set.\n",
    "predicted_y = mnb.predict(Lema_cv_feature_word_test)"
   ]
  },
  {
   "cell_type": "code",
   "execution_count": 19,
   "id": "acfef337",
   "metadata": {},
   "outputs": [
    {
     "data": {
      "image/png": "[encoded data removed]",
      "text/plain": [
       "<Figure size 1000x700 with 2 Axes>"
      ]
     },
     "metadata": {},
     "output_type": "display_data"
    },
    {
     "name": "stdout",
     "output_type": "stream",
     "text": [
      "              precision    recall  f1-score   support\n",
      "\n",
      "           0       0.74      0.80      0.77      1500\n",
      "           1       0.79      0.72      0.75      1500\n",
      "\n",
      "    accuracy                           0.76      3000\n",
      "   macro avg       0.76      0.76      0.76      3000\n",
      "weighted avg       0.76      0.76      0.76      3000\n",
      "\n"
     ]
    }
   ],
   "source": [
    "conf_matrix = confusion_matrix(y_test, predicted_y)       #(y, y_pred)\n",
    "plt.figure(figsize=(10, 7))\n",
    "sns.heatmap(conf_matrix, annot=True, fmt='g', cmap='Blues')\n",
    "plt.xlabel('Prediction')\n",
    "plt.ylabel('Ground Truth')\n",
    "plt.show()\n",
    "\n",
    "\n",
    "print(classification_report(y_test, predicted_y))"
   ]
  },
  {
   "cell_type": "markdown",
   "id": "a9d2293c",
   "metadata": {},
   "source": [
    " #### The Naive Bayes model predicted the class label with a 95% accuracy. The result demonstrates how well the simple algorithem, a Naive Bayes classifier, can perform for spam email detection."
   ]
  }
 ],
 "metadata": {
  "kernelspec": {
   "display_name": "Python 3 (ipykernel)",
   "language": "python",
   "name": "python3"
  },
  "language_info": {
   "codemirror_mode": {
    "name": "ipython",
    "version": 3
   },
   "file_extension": ".py",
   "mimetype": "text/x-python",
   "name": "python",
   "nbconvert_exporter": "python",
   "pygments_lexer": "ipython3",
   "version": "3.10.0"
  }
 },
 "nbformat": 4,
 "nbformat_minor": 5
}
